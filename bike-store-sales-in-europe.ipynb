{
 "cells": [
  {
   "cell_type": "markdown",
   "metadata": {
    "papermill": {
     "duration": 0.099423,
     "end_time": "2020-09-23T12:22:44.779821",
     "exception": false,
     "start_time": "2020-09-23T12:22:44.680398",
     "status": "completed"
    },
    "tags": []
   },
   "source": [
    "### Bike store sales DataSet\n",
    "\n",
    "<img src=\"https://user-images.githubusercontent.com/7065401/58563302-42466a80-8201-11e9-9948-b3e9f88a5662.jpg\"\n",
    "    style=\"width:400px; float: right; margin: 0 30px 30px 30px;\"></img>\n",
    "**Analyzing sales made on bike stores**\n",
    "\n",
    "\n",
    "**DataSet**  :   [Bike Store Sales](https://docs.google.com/spreadsheets/d/1NOe_UrPx6ULF2C5MvHmZ9ODuw8t9M77Q1Y64gP-7JHA/edit?usp=sharing)\n"
   ]
  },
  {
   "cell_type": "markdown",
   "metadata": {
    "papermill": {
     "duration": 0.096362,
     "end_time": "2020-09-23T12:22:44.971824",
     "exception": false,
     "start_time": "2020-09-23T12:22:44.875462",
     "status": "completed"
    },
    "tags": []
   },
   "source": [
    "## Import Libraries"
   ]
  },
  {
   "cell_type": "code",
   "execution_count": 1,
   "metadata": {
    "execution": {
     "iopub.execute_input": "2020-09-23T12:22:45.191451Z",
     "iopub.status.busy": "2020-09-23T12:22:45.189957Z",
     "iopub.status.idle": "2020-09-23T12:22:46.992553Z",
     "shell.execute_reply": "2020-09-23T12:22:46.991601Z"
    },
    "papermill": {
     "duration": 1.914846,
     "end_time": "2020-09-23T12:22:46.992700",
     "exception": false,
     "start_time": "2020-09-23T12:22:45.077854",
     "status": "completed"
    },
    "tags": []
   },
   "outputs": [],
   "source": [
    "import numpy as np \n",
    "import pandas as pd \n",
    "import matplotlib.pyplot as plt\n",
    "import seaborn as sns\n",
    "\n"
   ]
  },
  {
   "cell_type": "markdown",
   "metadata": {
    "papermill": {
     "duration": 0.096198,
     "end_time": "2020-09-23T12:22:47.184404",
     "exception": false,
     "start_time": "2020-09-23T12:22:47.088206",
     "status": "completed"
    },
    "tags": []
   },
   "source": [
    "### Load Data"
   ]
  },
  {
   "cell_type": "code",
   "execution_count": 2,
   "metadata": {
    "execution": {
     "iopub.execute_input": "2020-09-23T12:22:47.428187Z",
     "iopub.status.busy": "2020-09-23T12:22:47.427387Z",
     "iopub.status.idle": "2020-09-23T12:22:47.835528Z",
     "shell.execute_reply": "2020-09-23T12:22:47.834504Z"
    },
    "papermill": {
     "duration": 0.530873,
     "end_time": "2020-09-23T12:22:47.835703",
     "exception": false,
     "start_time": "2020-09-23T12:22:47.304830",
     "status": "completed"
    },
    "tags": []
   },
   "outputs": [],
   "source": [
    "Sales=pd.read_csv('/kaggle/input/bike-sales-in-europe/Sales.csv')"
   ]
  },
  {
   "cell_type": "code",
   "execution_count": 3,
   "metadata": {
    "execution": {
     "iopub.execute_input": "2020-09-23T12:22:48.056563Z",
     "iopub.status.busy": "2020-09-23T12:22:48.055312Z",
     "iopub.status.idle": "2020-09-23T12:22:48.071967Z",
     "shell.execute_reply": "2020-09-23T12:22:48.072581Z"
    },
    "papermill": {
     "duration": 0.144103,
     "end_time": "2020-09-23T12:22:48.072744",
     "exception": false,
     "start_time": "2020-09-23T12:22:47.928641",
     "status": "completed"
    },
    "scrolled": false,
    "tags": []
   },
   "outputs": [
    {
     "data": {
      "text/html": [
       "<div>\n",
       "<style scoped>\n",
       "    .dataframe tbody tr th:only-of-type {\n",
       "        vertical-align: middle;\n",
       "    }\n",
       "\n",
       "    .dataframe tbody tr th {\n",
       "        vertical-align: top;\n",
       "    }\n",
       "\n",
       "    .dataframe thead th {\n",
       "        text-align: right;\n",
       "    }\n",
       "</style>\n",
       "<table border=\"1\" class=\"dataframe\">\n",
       "  <thead>\n",
       "    <tr style=\"text-align: right;\">\n",
       "      <th></th>\n",
       "      <th>Date</th>\n",
       "      <th>Day</th>\n",
       "      <th>Month</th>\n",
       "      <th>Year</th>\n",
       "      <th>Customer_Age</th>\n",
       "      <th>Age_Group</th>\n",
       "      <th>Customer_Gender</th>\n",
       "      <th>Country</th>\n",
       "      <th>State</th>\n",
       "      <th>Product_Category</th>\n",
       "      <th>Sub_Category</th>\n",
       "      <th>Product</th>\n",
       "      <th>Order_Quantity</th>\n",
       "      <th>Unit_Cost</th>\n",
       "      <th>Unit_Price</th>\n",
       "      <th>Profit</th>\n",
       "      <th>Cost</th>\n",
       "      <th>Revenue</th>\n",
       "    </tr>\n",
       "  </thead>\n",
       "  <tbody>\n",
       "    <tr>\n",
       "      <th>0</th>\n",
       "      <td>2013-11-26</td>\n",
       "      <td>26</td>\n",
       "      <td>November</td>\n",
       "      <td>2013</td>\n",
       "      <td>19</td>\n",
       "      <td>Youth (&lt;25)</td>\n",
       "      <td>M</td>\n",
       "      <td>Canada</td>\n",
       "      <td>British Columbia</td>\n",
       "      <td>Accessories</td>\n",
       "      <td>Bike Racks</td>\n",
       "      <td>Hitch Rack - 4-Bike</td>\n",
       "      <td>8</td>\n",
       "      <td>45</td>\n",
       "      <td>120</td>\n",
       "      <td>590</td>\n",
       "      <td>360</td>\n",
       "      <td>950</td>\n",
       "    </tr>\n",
       "    <tr>\n",
       "      <th>1</th>\n",
       "      <td>2015-11-26</td>\n",
       "      <td>26</td>\n",
       "      <td>November</td>\n",
       "      <td>2015</td>\n",
       "      <td>19</td>\n",
       "      <td>Youth (&lt;25)</td>\n",
       "      <td>M</td>\n",
       "      <td>Canada</td>\n",
       "      <td>British Columbia</td>\n",
       "      <td>Accessories</td>\n",
       "      <td>Bike Racks</td>\n",
       "      <td>Hitch Rack - 4-Bike</td>\n",
       "      <td>8</td>\n",
       "      <td>45</td>\n",
       "      <td>120</td>\n",
       "      <td>590</td>\n",
       "      <td>360</td>\n",
       "      <td>950</td>\n",
       "    </tr>\n",
       "    <tr>\n",
       "      <th>2</th>\n",
       "      <td>2014-03-23</td>\n",
       "      <td>23</td>\n",
       "      <td>March</td>\n",
       "      <td>2014</td>\n",
       "      <td>49</td>\n",
       "      <td>Adults (35-64)</td>\n",
       "      <td>M</td>\n",
       "      <td>Australia</td>\n",
       "      <td>New South Wales</td>\n",
       "      <td>Accessories</td>\n",
       "      <td>Bike Racks</td>\n",
       "      <td>Hitch Rack - 4-Bike</td>\n",
       "      <td>23</td>\n",
       "      <td>45</td>\n",
       "      <td>120</td>\n",
       "      <td>1366</td>\n",
       "      <td>1035</td>\n",
       "      <td>2401</td>\n",
       "    </tr>\n",
       "    <tr>\n",
       "      <th>3</th>\n",
       "      <td>2016-03-23</td>\n",
       "      <td>23</td>\n",
       "      <td>March</td>\n",
       "      <td>2016</td>\n",
       "      <td>49</td>\n",
       "      <td>Adults (35-64)</td>\n",
       "      <td>M</td>\n",
       "      <td>Australia</td>\n",
       "      <td>New South Wales</td>\n",
       "      <td>Accessories</td>\n",
       "      <td>Bike Racks</td>\n",
       "      <td>Hitch Rack - 4-Bike</td>\n",
       "      <td>20</td>\n",
       "      <td>45</td>\n",
       "      <td>120</td>\n",
       "      <td>1188</td>\n",
       "      <td>900</td>\n",
       "      <td>2088</td>\n",
       "    </tr>\n",
       "    <tr>\n",
       "      <th>4</th>\n",
       "      <td>2014-05-15</td>\n",
       "      <td>15</td>\n",
       "      <td>May</td>\n",
       "      <td>2014</td>\n",
       "      <td>47</td>\n",
       "      <td>Adults (35-64)</td>\n",
       "      <td>F</td>\n",
       "      <td>Australia</td>\n",
       "      <td>New South Wales</td>\n",
       "      <td>Accessories</td>\n",
       "      <td>Bike Racks</td>\n",
       "      <td>Hitch Rack - 4-Bike</td>\n",
       "      <td>4</td>\n",
       "      <td>45</td>\n",
       "      <td>120</td>\n",
       "      <td>238</td>\n",
       "      <td>180</td>\n",
       "      <td>418</td>\n",
       "    </tr>\n",
       "  </tbody>\n",
       "</table>\n",
       "</div>"
      ],
      "text/plain": [
       "         Date  Day     Month  Year  Customer_Age       Age_Group  \\\n",
       "0  2013-11-26   26  November  2013            19     Youth (<25)   \n",
       "1  2015-11-26   26  November  2015            19     Youth (<25)   \n",
       "2  2014-03-23   23     March  2014            49  Adults (35-64)   \n",
       "3  2016-03-23   23     March  2016            49  Adults (35-64)   \n",
       "4  2014-05-15   15       May  2014            47  Adults (35-64)   \n",
       "\n",
       "  Customer_Gender    Country             State Product_Category Sub_Category  \\\n",
       "0               M     Canada  British Columbia      Accessories   Bike Racks   \n",
       "1               M     Canada  British Columbia      Accessories   Bike Racks   \n",
       "2               M  Australia   New South Wales      Accessories   Bike Racks   \n",
       "3               M  Australia   New South Wales      Accessories   Bike Racks   \n",
       "4               F  Australia   New South Wales      Accessories   Bike Racks   \n",
       "\n",
       "               Product  Order_Quantity  Unit_Cost  Unit_Price  Profit  Cost  \\\n",
       "0  Hitch Rack - 4-Bike               8         45         120     590   360   \n",
       "1  Hitch Rack - 4-Bike               8         45         120     590   360   \n",
       "2  Hitch Rack - 4-Bike              23         45         120    1366  1035   \n",
       "3  Hitch Rack - 4-Bike              20         45         120    1188   900   \n",
       "4  Hitch Rack - 4-Bike               4         45         120     238   180   \n",
       "\n",
       "   Revenue  \n",
       "0      950  \n",
       "1      950  \n",
       "2     2401  \n",
       "3     2088  \n",
       "4      418  "
      ]
     },
     "execution_count": 3,
     "metadata": {},
     "output_type": "execute_result"
    }
   ],
   "source": [
    "Sales.head()"
   ]
  },
  {
   "cell_type": "markdown",
   "metadata": {
    "papermill": {
     "duration": 0.093817,
     "end_time": "2020-09-23T12:22:48.261298",
     "exception": false,
     "start_time": "2020-09-23T12:22:48.167481",
     "status": "completed"
    },
    "tags": []
   },
   "source": [
    "### Rows & Columns"
   ]
  },
  {
   "cell_type": "code",
   "execution_count": 4,
   "metadata": {
    "execution": {
     "iopub.execute_input": "2020-09-23T12:22:48.470389Z",
     "iopub.status.busy": "2020-09-23T12:22:48.469256Z",
     "iopub.status.idle": "2020-09-23T12:22:48.479845Z",
     "shell.execute_reply": "2020-09-23T12:22:48.479013Z"
    },
    "papermill": {
     "duration": 0.123069,
     "end_time": "2020-09-23T12:22:48.480008",
     "exception": false,
     "start_time": "2020-09-23T12:22:48.356939",
     "status": "completed"
    },
    "tags": []
   },
   "outputs": [
    {
     "data": {
      "text/plain": [
       "array(['Canada', 'Australia', 'United States', 'Germany', 'France',\n",
       "       'United Kingdom'], dtype=object)"
      ]
     },
     "execution_count": 4,
     "metadata": {},
     "output_type": "execute_result"
    }
   ],
   "source": [
    "Sales['Country'].unique()"
   ]
  },
  {
   "cell_type": "code",
   "execution_count": 5,
   "metadata": {
    "execution": {
     "iopub.execute_input": "2020-09-23T12:22:48.676739Z",
     "iopub.status.busy": "2020-09-23T12:22:48.675880Z",
     "iopub.status.idle": "2020-09-23T12:22:48.680992Z",
     "shell.execute_reply": "2020-09-23T12:22:48.680141Z"
    },
    "papermill": {
     "duration": 0.105946,
     "end_time": "2020-09-23T12:22:48.681209",
     "exception": false,
     "start_time": "2020-09-23T12:22:48.575263",
     "status": "completed"
    },
    "tags": []
   },
   "outputs": [
    {
     "name": "stdout",
     "output_type": "stream",
     "text": [
      "Rows of DataSet is :  113036\n",
      "Columns of DataSet is :  18\n"
     ]
    }
   ],
   "source": [
    "Shape = Sales.shape\n",
    "Rows=Shape[0]\n",
    "Col= Shape[1]\n",
    "print(f\"Rows of DataSet is :  {Rows}\")\n",
    "print(f\"Columns of DataSet is :  {Col}\")"
   ]
  },
  {
   "cell_type": "markdown",
   "metadata": {
    "papermill": {
     "duration": 0.095508,
     "end_time": "2020-09-23T12:22:48.872702",
     "exception": false,
     "start_time": "2020-09-23T12:22:48.777194",
     "status": "completed"
    },
    "tags": []
   },
   "source": [
    "# Data Preprocessing\n",
    "-------------------------------------------\n",
    "### **Identify Type of Columns**\n",
    "\n",
    "\n",
    "\n"
   ]
  },
  {
   "cell_type": "code",
   "execution_count": 6,
   "metadata": {
    "execution": {
     "iopub.execute_input": "2020-09-23T12:22:49.066215Z",
     "iopub.status.busy": "2020-09-23T12:22:49.065389Z",
     "iopub.status.idle": "2020-09-23T12:22:49.202314Z",
     "shell.execute_reply": "2020-09-23T12:22:49.201516Z"
    },
    "papermill": {
     "duration": 0.235624,
     "end_time": "2020-09-23T12:22:49.202448",
     "exception": false,
     "start_time": "2020-09-23T12:22:48.966824",
     "status": "completed"
    },
    "scrolled": false,
    "tags": []
   },
   "outputs": [
    {
     "name": "stdout",
     "output_type": "stream",
     "text": [
      "<class 'pandas.core.frame.DataFrame'>\n",
      "RangeIndex: 113036 entries, 0 to 113035\n",
      "Data columns (total 18 columns):\n",
      " #   Column            Non-Null Count   Dtype \n",
      "---  ------            --------------   ----- \n",
      " 0   Date              113036 non-null  object\n",
      " 1   Day               113036 non-null  int64 \n",
      " 2   Month             113036 non-null  object\n",
      " 3   Year              113036 non-null  int64 \n",
      " 4   Customer_Age      113036 non-null  int64 \n",
      " 5   Age_Group         113036 non-null  object\n",
      " 6   Customer_Gender   113036 non-null  object\n",
      " 7   Country           113036 non-null  object\n",
      " 8   State             113036 non-null  object\n",
      " 9   Product_Category  113036 non-null  object\n",
      " 10  Sub_Category      113036 non-null  object\n",
      " 11  Product           113036 non-null  object\n",
      " 12  Order_Quantity    113036 non-null  int64 \n",
      " 13  Unit_Cost         113036 non-null  int64 \n",
      " 14  Unit_Price        113036 non-null  int64 \n",
      " 15  Profit            113036 non-null  int64 \n",
      " 16  Cost              113036 non-null  int64 \n",
      " 17  Revenue           113036 non-null  int64 \n",
      "dtypes: int64(9), object(9)\n",
      "memory usage: 15.5+ MB\n"
     ]
    }
   ],
   "source": [
    "Sales.info()"
   ]
  },
  {
   "cell_type": "markdown",
   "metadata": {
    "papermill": {
     "duration": 0.092799,
     "end_time": "2020-09-23T12:22:49.390848",
     "exception": false,
     "start_time": "2020-09-23T12:22:49.298049",
     "status": "completed"
    },
    "tags": []
   },
   "source": [
    "### Convert date\n",
    "\n",
    "> **Convert Object into dateTime Category**"
   ]
  },
  {
   "cell_type": "code",
   "execution_count": 7,
   "metadata": {
    "execution": {
     "iopub.execute_input": "2020-09-23T12:22:49.625062Z",
     "iopub.status.busy": "2020-09-23T12:22:49.623826Z",
     "iopub.status.idle": "2020-09-23T12:22:49.641989Z",
     "shell.execute_reply": "2020-09-23T12:22:49.641271Z"
    },
    "papermill": {
     "duration": 0.157285,
     "end_time": "2020-09-23T12:22:49.642119",
     "exception": false,
     "start_time": "2020-09-23T12:22:49.484834",
     "status": "completed"
    },
    "tags": []
   },
   "outputs": [],
   "source": [
    "Sales['Date'] = pd.to_datetime(Sales['Date'])"
   ]
  },
  {
   "cell_type": "markdown",
   "metadata": {
    "papermill": {
     "duration": 0.090959,
     "end_time": "2020-09-23T12:22:49.828227",
     "exception": false,
     "start_time": "2020-09-23T12:22:49.737268",
     "status": "completed"
    },
    "tags": []
   },
   "source": [
    "### Change the Date Format"
   ]
  },
  {
   "cell_type": "code",
   "execution_count": 8,
   "metadata": {
    "execution": {
     "iopub.execute_input": "2020-09-23T12:22:50.064115Z",
     "iopub.status.busy": "2020-09-23T12:22:50.062923Z",
     "iopub.status.idle": "2020-09-23T12:23:04.889216Z",
     "shell.execute_reply": "2020-09-23T12:23:04.888251Z"
    },
    "papermill": {
     "duration": 14.936008,
     "end_time": "2020-09-23T12:23:04.889409",
     "exception": false,
     "start_time": "2020-09-23T12:22:49.953401",
     "status": "completed"
    },
    "tags": []
   },
   "outputs": [
    {
     "data": {
      "text/plain": [
       "0   2013-11-26\n",
       "1   2015-11-26\n",
       "2   2014-03-23\n",
       "3   2016-03-23\n",
       "4   2014-05-15\n",
       "Name: Calculated_Date, dtype: datetime64[ns]"
      ]
     },
     "execution_count": 8,
     "metadata": {},
     "output_type": "execute_result"
    }
   ],
   "source": [
    "Sales[\"Calculated_Date\"]= Sales[['Year', 'Month', 'Day']].apply(lambda x: '{}-{}-{}'.format(x[0], x[1], x[2]), axis=1)\n",
    "Sales[\"Calculated_Date\"]=pd.to_datetime(Sales['Calculated_Date'])\n",
    "Sales[\"Calculated_Date\"].head()\n"
   ]
  },
  {
   "cell_type": "markdown",
   "metadata": {
    "papermill": {
     "duration": 0.097502,
     "end_time": "2020-09-23T12:23:05.083749",
     "exception": false,
     "start_time": "2020-09-23T12:23:04.986247",
     "status": "completed"
    },
    "tags": []
   },
   "source": [
    "### **Identify Null And Missing Values**"
   ]
  },
  {
   "cell_type": "code",
   "execution_count": 9,
   "metadata": {
    "execution": {
     "iopub.execute_input": "2020-09-23T12:23:05.374637Z",
     "iopub.status.busy": "2020-09-23T12:23:05.373868Z",
     "iopub.status.idle": "2020-09-23T12:23:05.387986Z",
     "shell.execute_reply": "2020-09-23T12:23:05.387195Z"
    },
    "papermill": {
     "duration": 0.20959,
     "end_time": "2020-09-23T12:23:05.388113",
     "exception": false,
     "start_time": "2020-09-23T12:23:05.178523",
     "status": "completed"
    },
    "tags": []
   },
   "outputs": [
    {
     "data": {
      "text/plain": [
       "Date                0\n",
       "Day                 0\n",
       "Month               0\n",
       "Year                0\n",
       "Customer_Age        0\n",
       "Age_Group           0\n",
       "Customer_Gender     0\n",
       "Country             0\n",
       "State               0\n",
       "Product_Category    0\n",
       "Sub_Category        0\n",
       "Product             0\n",
       "Order_Quantity      0\n",
       "Unit_Cost           0\n",
       "Unit_Price          0\n",
       "Profit              0\n",
       "Cost                0\n",
       "Revenue             0\n",
       "Calculated_Date     0\n",
       "dtype: int64"
      ]
     },
     "execution_count": 9,
     "metadata": {},
     "output_type": "execute_result"
    }
   ],
   "source": [
    "Sales.isnull().sum()"
   ]
  },
  {
   "cell_type": "code",
   "execution_count": 10,
   "metadata": {
    "execution": {
     "iopub.execute_input": "2020-09-23T12:23:05.580693Z",
     "iopub.status.busy": "2020-09-23T12:23:05.579965Z",
     "iopub.status.idle": "2020-09-23T12:23:05.656175Z",
     "shell.execute_reply": "2020-09-23T12:23:05.655515Z"
    },
    "papermill": {
     "duration": 0.176074,
     "end_time": "2020-09-23T12:23:05.656336",
     "exception": false,
     "start_time": "2020-09-23T12:23:05.480262",
     "status": "completed"
    },
    "tags": []
   },
   "outputs": [
    {
     "data": {
      "text/html": [
       "<div>\n",
       "<style scoped>\n",
       "    .dataframe tbody tr th:only-of-type {\n",
       "        vertical-align: middle;\n",
       "    }\n",
       "\n",
       "    .dataframe tbody tr th {\n",
       "        vertical-align: top;\n",
       "    }\n",
       "\n",
       "    .dataframe thead th {\n",
       "        text-align: right;\n",
       "    }\n",
       "</style>\n",
       "<table border=\"1\" class=\"dataframe\">\n",
       "  <thead>\n",
       "    <tr style=\"text-align: right;\">\n",
       "      <th></th>\n",
       "      <th>Day</th>\n",
       "      <th>Year</th>\n",
       "      <th>Customer_Age</th>\n",
       "      <th>Order_Quantity</th>\n",
       "      <th>Unit_Cost</th>\n",
       "      <th>Unit_Price</th>\n",
       "      <th>Profit</th>\n",
       "      <th>Cost</th>\n",
       "      <th>Revenue</th>\n",
       "    </tr>\n",
       "  </thead>\n",
       "  <tbody>\n",
       "    <tr>\n",
       "      <th>count</th>\n",
       "      <td>113036.000000</td>\n",
       "      <td>113036.000000</td>\n",
       "      <td>113036.000000</td>\n",
       "      <td>113036.000000</td>\n",
       "      <td>113036.000000</td>\n",
       "      <td>113036.000000</td>\n",
       "      <td>113036.000000</td>\n",
       "      <td>113036.000000</td>\n",
       "      <td>113036.000000</td>\n",
       "    </tr>\n",
       "    <tr>\n",
       "      <th>mean</th>\n",
       "      <td>15.665753</td>\n",
       "      <td>2014.401739</td>\n",
       "      <td>35.919212</td>\n",
       "      <td>11.901660</td>\n",
       "      <td>267.296366</td>\n",
       "      <td>452.938427</td>\n",
       "      <td>285.051665</td>\n",
       "      <td>469.318695</td>\n",
       "      <td>754.370360</td>\n",
       "    </tr>\n",
       "    <tr>\n",
       "      <th>std</th>\n",
       "      <td>8.781567</td>\n",
       "      <td>1.272510</td>\n",
       "      <td>11.021936</td>\n",
       "      <td>9.561857</td>\n",
       "      <td>549.835483</td>\n",
       "      <td>922.071219</td>\n",
       "      <td>453.887443</td>\n",
       "      <td>884.866118</td>\n",
       "      <td>1309.094674</td>\n",
       "    </tr>\n",
       "    <tr>\n",
       "      <th>min</th>\n",
       "      <td>1.000000</td>\n",
       "      <td>2011.000000</td>\n",
       "      <td>17.000000</td>\n",
       "      <td>1.000000</td>\n",
       "      <td>1.000000</td>\n",
       "      <td>2.000000</td>\n",
       "      <td>-30.000000</td>\n",
       "      <td>1.000000</td>\n",
       "      <td>2.000000</td>\n",
       "    </tr>\n",
       "    <tr>\n",
       "      <th>25%</th>\n",
       "      <td>8.000000</td>\n",
       "      <td>2013.000000</td>\n",
       "      <td>28.000000</td>\n",
       "      <td>2.000000</td>\n",
       "      <td>2.000000</td>\n",
       "      <td>5.000000</td>\n",
       "      <td>29.000000</td>\n",
       "      <td>28.000000</td>\n",
       "      <td>63.000000</td>\n",
       "    </tr>\n",
       "    <tr>\n",
       "      <th>50%</th>\n",
       "      <td>16.000000</td>\n",
       "      <td>2014.000000</td>\n",
       "      <td>35.000000</td>\n",
       "      <td>10.000000</td>\n",
       "      <td>9.000000</td>\n",
       "      <td>24.000000</td>\n",
       "      <td>101.000000</td>\n",
       "      <td>108.000000</td>\n",
       "      <td>223.000000</td>\n",
       "    </tr>\n",
       "    <tr>\n",
       "      <th>75%</th>\n",
       "      <td>23.000000</td>\n",
       "      <td>2016.000000</td>\n",
       "      <td>43.000000</td>\n",
       "      <td>20.000000</td>\n",
       "      <td>42.000000</td>\n",
       "      <td>70.000000</td>\n",
       "      <td>358.000000</td>\n",
       "      <td>432.000000</td>\n",
       "      <td>800.000000</td>\n",
       "    </tr>\n",
       "    <tr>\n",
       "      <th>max</th>\n",
       "      <td>31.000000</td>\n",
       "      <td>2016.000000</td>\n",
       "      <td>87.000000</td>\n",
       "      <td>32.000000</td>\n",
       "      <td>2171.000000</td>\n",
       "      <td>3578.000000</td>\n",
       "      <td>15096.000000</td>\n",
       "      <td>42978.000000</td>\n",
       "      <td>58074.000000</td>\n",
       "    </tr>\n",
       "  </tbody>\n",
       "</table>\n",
       "</div>"
      ],
      "text/plain": [
       "                 Day           Year   Customer_Age  Order_Quantity  \\\n",
       "count  113036.000000  113036.000000  113036.000000   113036.000000   \n",
       "mean       15.665753    2014.401739      35.919212       11.901660   \n",
       "std         8.781567       1.272510      11.021936        9.561857   \n",
       "min         1.000000    2011.000000      17.000000        1.000000   \n",
       "25%         8.000000    2013.000000      28.000000        2.000000   \n",
       "50%        16.000000    2014.000000      35.000000       10.000000   \n",
       "75%        23.000000    2016.000000      43.000000       20.000000   \n",
       "max        31.000000    2016.000000      87.000000       32.000000   \n",
       "\n",
       "           Unit_Cost     Unit_Price         Profit           Cost  \\\n",
       "count  113036.000000  113036.000000  113036.000000  113036.000000   \n",
       "mean      267.296366     452.938427     285.051665     469.318695   \n",
       "std       549.835483     922.071219     453.887443     884.866118   \n",
       "min         1.000000       2.000000     -30.000000       1.000000   \n",
       "25%         2.000000       5.000000      29.000000      28.000000   \n",
       "50%         9.000000      24.000000     101.000000     108.000000   \n",
       "75%        42.000000      70.000000     358.000000     432.000000   \n",
       "max      2171.000000    3578.000000   15096.000000   42978.000000   \n",
       "\n",
       "             Revenue  \n",
       "count  113036.000000  \n",
       "mean      754.370360  \n",
       "std      1309.094674  \n",
       "min         2.000000  \n",
       "25%        63.000000  \n",
       "50%       223.000000  \n",
       "75%       800.000000  \n",
       "max     58074.000000  "
      ]
     },
     "execution_count": 10,
     "metadata": {},
     "output_type": "execute_result"
    }
   ],
   "source": [
    "Sales.describe()"
   ]
  },
  {
   "cell_type": "markdown",
   "metadata": {
    "papermill": {
     "duration": 0.09155,
     "end_time": "2020-09-23T12:23:05.841404",
     "exception": false,
     "start_time": "2020-09-23T12:23:05.749854",
     "status": "completed"
    },
    "tags": []
   },
   "source": [
    "> ## Numerical analysis and visualization\n",
    "_We'll analyze the Numerical features column:_"
   ]
  },
  {
   "cell_type": "code",
   "execution_count": 11,
   "metadata": {
    "execution": {
     "iopub.execute_input": "2020-09-23T12:23:06.037803Z",
     "iopub.status.busy": "2020-09-23T12:23:06.036476Z",
     "iopub.status.idle": "2020-09-23T12:23:06.047143Z",
     "shell.execute_reply": "2020-09-23T12:23:06.047707Z"
    },
    "papermill": {
     "duration": 0.112809,
     "end_time": "2020-09-23T12:23:06.047871",
     "exception": false,
     "start_time": "2020-09-23T12:23:05.935062",
     "status": "completed"
    },
    "tags": []
   },
   "outputs": [
    {
     "data": {
      "text/plain": [
       "count    113036.000000\n",
       "mean        267.296366\n",
       "std         549.835483\n",
       "min           1.000000\n",
       "25%           2.000000\n",
       "50%           9.000000\n",
       "75%          42.000000\n",
       "max        2171.000000\n",
       "Name: Unit_Cost, dtype: float64"
      ]
     },
     "execution_count": 11,
     "metadata": {},
     "output_type": "execute_result"
    }
   ],
   "source": [
    "Sales['Unit_Cost'].describe()\n"
   ]
  },
  {
   "cell_type": "code",
   "execution_count": 12,
   "metadata": {
    "execution": {
     "iopub.execute_input": "2020-09-23T12:23:06.242065Z",
     "iopub.status.busy": "2020-09-23T12:23:06.241272Z",
     "iopub.status.idle": "2020-09-23T12:23:06.247251Z",
     "shell.execute_reply": "2020-09-23T12:23:06.246459Z"
    },
    "papermill": {
     "duration": 0.105206,
     "end_time": "2020-09-23T12:23:06.247558",
     "exception": false,
     "start_time": "2020-09-23T12:23:06.142352",
     "status": "completed"
    },
    "tags": []
   },
   "outputs": [
    {
     "data": {
      "text/plain": [
       "267.296365759581"
      ]
     },
     "execution_count": 12,
     "metadata": {},
     "output_type": "execute_result"
    }
   ],
   "source": [
    "Sales['Unit_Cost'].mean()"
   ]
  },
  {
   "cell_type": "code",
   "execution_count": 13,
   "metadata": {
    "execution": {
     "iopub.execute_input": "2020-09-23T12:23:06.444957Z",
     "iopub.status.busy": "2020-09-23T12:23:06.443817Z",
     "iopub.status.idle": "2020-09-23T12:23:06.450926Z",
     "shell.execute_reply": "2020-09-23T12:23:06.450211Z"
    },
    "papermill": {
     "duration": 0.107417,
     "end_time": "2020-09-23T12:23:06.451057",
     "exception": false,
     "start_time": "2020-09-23T12:23:06.343640",
     "status": "completed"
    },
    "tags": []
   },
   "outputs": [
    {
     "data": {
      "text/plain": [
       "9.0"
      ]
     },
     "execution_count": 13,
     "metadata": {},
     "output_type": "execute_result"
    }
   ],
   "source": [
    "Sales['Unit_Cost'].median()"
   ]
  },
  {
   "cell_type": "code",
   "execution_count": 14,
   "metadata": {
    "execution": {
     "iopub.execute_input": "2020-09-23T12:23:06.652074Z",
     "iopub.status.busy": "2020-09-23T12:23:06.651064Z",
     "iopub.status.idle": "2020-09-23T12:23:07.002734Z",
     "shell.execute_reply": "2020-09-23T12:23:07.001521Z"
    },
    "papermill": {
     "duration": 0.453318,
     "end_time": "2020-09-23T12:23:07.002977",
     "exception": false,
     "start_time": "2020-09-23T12:23:06.549659",
     "status": "completed"
    },
    "tags": []
   },
   "outputs": [
    {
     "data": {
      "text/plain": [
       "<matplotlib.axes._subplots.AxesSubplot at 0x7f2ae2f98bd0>"
      ]
     },
     "execution_count": 14,
     "metadata": {},
     "output_type": "execute_result"
    },
    {
     "data": {
      "image/png": "[encoded data removed]",
      "text/plain": [
       "<Figure size 1008x432 with 1 Axes>"
      ]
     },
     "metadata": {
      "needs_background": "light"
     },
     "output_type": "display_data"
    }
   ],
   "source": [
    "Sales['Unit_Cost'].plot(kind=\"box\",figsize=(14,6),vert=False, fontsize=12)"
   ]
  },
  {
   "cell_type": "code",
   "execution_count": 15,
   "metadata": {
    "execution": {
     "iopub.execute_input": "2020-09-23T12:23:07.211490Z",
     "iopub.status.busy": "2020-09-23T12:23:07.209880Z",
     "iopub.status.idle": "2020-09-23T12:23:10.408038Z",
     "shell.execute_reply": "2020-09-23T12:23:10.408643Z"
    },
    "papermill": {
     "duration": 3.30404,
     "end_time": "2020-09-23T12:23:10.408812",
     "exception": false,
     "start_time": "2020-09-23T12:23:07.104772",
     "status": "completed"
    },
    "tags": []
   },
   "outputs": [
    {
     "data": {
      "text/plain": [
       "Text(0, 0.5, 'Sales')"
      ]
     },
     "execution_count": 15,
     "metadata": {},
     "output_type": "execute_result"
    },
    {
     "data": {
      "image/png": "[encoded data removed]",
      "text/plain": [
       "<Figure size 864x432 with 1 Axes>"
      ]
     },
     "metadata": {
      "needs_background": "light"
     },
     "output_type": "display_data"
    }
   ],
   "source": [
    "Sales['Unit_Cost'].plot(kind=\"density\" , figsize=(12,6), fontsize=12)\n",
    "plt.title(\"Unit Cost\",fontsize=15)\n",
    "plt.xlabel(\"Unit Cost\",fontsize=12)\n",
    "plt.ylabel(\"Sales\",fontsize=12)"
   ]
  },
  {
   "cell_type": "markdown",
   "metadata": {
    "papermill": {
     "duration": 0.096684,
     "end_time": "2020-09-23T12:23:10.602210",
     "exception": false,
     "start_time": "2020-09-23T12:23:10.505526",
     "status": "completed"
    },
    "tags": []
   },
   "source": [
    "\n",
    "### Median and Mean at Unit Cost"
   ]
  },
  {
   "cell_type": "code",
   "execution_count": 16,
   "metadata": {
    "execution": {
     "iopub.execute_input": "2020-09-23T12:23:10.856244Z",
     "iopub.status.busy": "2020-09-23T12:23:10.855435Z",
     "iopub.status.idle": "2020-09-23T12:23:13.991653Z",
     "shell.execute_reply": "2020-09-23T12:23:13.990791Z"
    },
    "papermill": {
     "duration": 3.293501,
     "end_time": "2020-09-23T12:23:13.991797",
     "exception": false,
     "start_time": "2020-09-23T12:23:10.698296",
     "status": "completed"
    },
    "tags": []
   },
   "outputs": [
    {
     "data": {
      "text/plain": [
       "<matplotlib.legend.Legend at 0x7f2ae2d30690>"
      ]
     },
     "execution_count": 16,
     "metadata": {},
     "output_type": "execute_result"
    },
    {
     "data": {
      "image/png": "[encoded data removed]",
      "text/plain": [
       "<Figure size 864x432 with 1 Axes>"
      ]
     },
     "metadata": {
      "needs_background": "light"
     },
     "output_type": "display_data"
    }
   ],
   "source": [
    "ax=Sales['Unit_Cost'].plot(kind=\"density\" , figsize=(12,6))\n",
    "# ax.axvlines(Sales['Unit_Cost'].mean())\n",
    "mean= ax.axvline(Sales['Unit_Cost'].mean(), color='red' )\n",
    "median = ax.axvline(Sales['Unit_Cost'].median(), color='g')\n",
    "plt.legend({'Median':median,'Mean':mean})"
   ]
  },
  {
   "cell_type": "code",
   "execution_count": 17,
   "metadata": {
    "execution": {
     "iopub.execute_input": "2020-09-23T12:23:14.194842Z",
     "iopub.status.busy": "2020-09-23T12:23:14.194047Z",
     "iopub.status.idle": "2020-09-23T12:23:14.400774Z",
     "shell.execute_reply": "2020-09-23T12:23:14.401366Z"
    },
    "papermill": {
     "duration": 0.311221,
     "end_time": "2020-09-23T12:23:14.401538",
     "exception": false,
     "start_time": "2020-09-23T12:23:14.090317",
     "status": "completed"
    },
    "scrolled": false,
    "tags": []
   },
   "outputs": [
    {
     "data": {
      "text/plain": [
       "Text(0.5, 0, 'Dollars')"
      ]
     },
     "execution_count": 17,
     "metadata": {},
     "output_type": "execute_result"
    },
    {
     "data": {
      "image/png": "[encoded data removed]",
      "text/plain": [
       "<Figure size 1008x432 with 1 Axes>"
      ]
     },
     "metadata": {
      "needs_background": "light"
     },
     "output_type": "display_data"
    }
   ],
   "source": [
    "ax = Sales['Unit_Cost'].plot(kind='hist', figsize=(14,6))\n",
    "ax.set_ylabel('Number of Sales', fontsize=15)\n",
    "ax.set_xlabel('Dollars', fontsize=15)"
   ]
  },
  {
   "cell_type": "markdown",
   "metadata": {
    "papermill": {
     "duration": 0.098238,
     "end_time": "2020-09-23T12:23:14.598818",
     "exception": false,
     "start_time": "2020-09-23T12:23:14.500580",
     "status": "completed"
    },
    "tags": []
   },
   "source": [
    "### Mean of Customers Age"
   ]
  },
  {
   "cell_type": "code",
   "execution_count": 18,
   "metadata": {
    "execution": {
     "iopub.execute_input": "2020-09-23T12:23:14.809568Z",
     "iopub.status.busy": "2020-09-23T12:23:14.808758Z",
     "iopub.status.idle": "2020-09-23T12:23:14.816602Z",
     "shell.execute_reply": "2020-09-23T12:23:14.815806Z"
    },
    "papermill": {
     "duration": 0.119207,
     "end_time": "2020-09-23T12:23:14.816729",
     "exception": false,
     "start_time": "2020-09-23T12:23:14.697522",
     "status": "completed"
    },
    "scrolled": true,
    "tags": []
   },
   "outputs": [
    {
     "data": {
      "text/plain": [
       "1614.8"
      ]
     },
     "execution_count": 18,
     "metadata": {},
     "output_type": "execute_result"
    }
   ],
   "source": [
    "Sales[\"Customer_Age\"].value_counts().mean()"
   ]
  },
  {
   "cell_type": "code",
   "execution_count": 19,
   "metadata": {
    "execution": {
     "iopub.execute_input": "2020-09-23T12:23:15.025277Z",
     "iopub.status.busy": "2020-09-23T12:23:15.024109Z",
     "iopub.status.idle": "2020-09-23T12:23:15.198143Z",
     "shell.execute_reply": "2020-09-23T12:23:15.197367Z"
    },
    "papermill": {
     "duration": 0.281905,
     "end_time": "2020-09-23T12:23:15.198276",
     "exception": false,
     "start_time": "2020-09-23T12:23:14.916371",
     "status": "completed"
    },
    "tags": []
   },
   "outputs": [
    {
     "data": {
      "text/plain": [
       "<matplotlib.axes._subplots.AxesSubplot at 0x7f2ae2c72190>"
      ]
     },
     "execution_count": 19,
     "metadata": {},
     "output_type": "execute_result"
    },
    {
     "data": {
      "image/png": "[encoded data removed]",
      "text/plain": [
       "<Figure size 1080x432 with 1 Axes>"
      ]
     },
     "metadata": {
      "needs_background": "light"
     },
     "output_type": "display_data"
    }
   ],
   "source": [
    "Sales[\"Customer_Age\"].plot(kind='box',vert=False,figsize=(15,6), fontsize=12)"
   ]
  },
  {
   "cell_type": "code",
   "execution_count": 20,
   "metadata": {
    "execution": {
     "iopub.execute_input": "2020-09-23T12:23:15.413294Z",
     "iopub.status.busy": "2020-09-23T12:23:15.412147Z",
     "iopub.status.idle": "2020-09-23T12:23:18.591033Z",
     "shell.execute_reply": "2020-09-23T12:23:18.590270Z"
    },
    "papermill": {
     "duration": 3.290227,
     "end_time": "2020-09-23T12:23:18.591159",
     "exception": false,
     "start_time": "2020-09-23T12:23:15.300932",
     "status": "completed"
    },
    "tags": []
   },
   "outputs": [
    {
     "data": {
      "text/plain": [
       "<matplotlib.legend.Legend at 0x7f2ae2d61150>"
      ]
     },
     "execution_count": 20,
     "metadata": {},
     "output_type": "execute_result"
    },
    {
     "data": {
      "image/png": "[encoded data removed]",
      "text/plain": [
       "<Figure size 864x432 with 1 Axes>"
      ]
     },
     "metadata": {
      "needs_background": "light"
     },
     "output_type": "display_data"
    }
   ],
   "source": [
    "Sales[\"Customer_Age\"].plot(kind='kde',figsize=(12,6))\n",
    "plt.title(\"Sales\",fontsize=15)\n",
    "plt.xlabel(\"Customer Age\",fontsize=12)\n",
    "plt.ylabel(\"Sales\",fontsize=12)\n",
    "plt.legend()"
   ]
  },
  {
   "cell_type": "markdown",
   "metadata": {
    "papermill": {
     "duration": 0.106177,
     "end_time": "2020-09-23T12:23:18.801968",
     "exception": false,
     "start_time": "2020-09-23T12:23:18.695791",
     "status": "completed"
    },
    "tags": []
   },
   "source": [
    "### Sales According to years"
   ]
  },
  {
   "cell_type": "code",
   "execution_count": 21,
   "metadata": {
    "execution": {
     "iopub.execute_input": "2020-09-23T12:23:19.018643Z",
     "iopub.status.busy": "2020-09-23T12:23:19.017813Z",
     "iopub.status.idle": "2020-09-23T12:23:19.026509Z",
     "shell.execute_reply": "2020-09-23T12:23:19.025810Z"
    },
    "papermill": {
     "duration": 0.121016,
     "end_time": "2020-09-23T12:23:19.026662",
     "exception": false,
     "start_time": "2020-09-23T12:23:18.905646",
     "status": "completed"
    },
    "scrolled": true,
    "tags": []
   },
   "outputs": [
    {
     "data": {
      "text/plain": [
       "2016    29398\n",
       "2014    29398\n",
       "2015    24443\n",
       "2013    24443\n",
       "2012     2677\n",
       "2011     2677\n",
       "Name: Year, dtype: int64"
      ]
     },
     "execution_count": 21,
     "metadata": {},
     "output_type": "execute_result"
    }
   ],
   "source": [
    "Sales['Year'].value_counts()"
   ]
  },
  {
   "cell_type": "code",
   "execution_count": 22,
   "metadata": {
    "execution": {
     "iopub.execute_input": "2020-09-23T12:23:19.251308Z",
     "iopub.status.busy": "2020-09-23T12:23:19.250095Z",
     "iopub.status.idle": "2020-09-23T12:23:19.430057Z",
     "shell.execute_reply": "2020-09-23T12:23:19.429275Z"
    },
    "papermill": {
     "duration": 0.294923,
     "end_time": "2020-09-23T12:23:19.430197",
     "exception": false,
     "start_time": "2020-09-23T12:23:19.135274",
     "status": "completed"
    },
    "tags": []
   },
   "outputs": [
    {
     "data": {
      "text/plain": [
       "<matplotlib.axes._subplots.AxesSubplot at 0x7f2ae2bdaed0>"
      ]
     },
     "execution_count": 22,
     "metadata": {},
     "output_type": "execute_result"
    },
    {
     "data": {
      "image/png": "[encoded data removed]",
      "text/plain": [
       "<Figure size 1152x432 with 1 Axes>"
      ]
     },
     "metadata": {
      "needs_background": "light"
     },
     "output_type": "display_data"
    }
   ],
   "source": [
    "Sales[\"Year\"].value_counts().plot(kind=\"bar\",figsize=(16,6))"
   ]
  },
  {
   "cell_type": "markdown",
   "metadata": {
    "papermill": {
     "duration": 0.108164,
     "end_time": "2020-09-23T12:23:19.644508",
     "exception": false,
     "start_time": "2020-09-23T12:23:19.536344",
     "status": "completed"
    },
    "tags": []
   },
   "source": [
    "### Sales According to Month"
   ]
  },
  {
   "cell_type": "code",
   "execution_count": 23,
   "metadata": {
    "execution": {
     "iopub.execute_input": "2020-09-23T12:23:19.890879Z",
     "iopub.status.busy": "2020-09-23T12:23:19.889982Z",
     "iopub.status.idle": "2020-09-23T12:23:19.898110Z",
     "shell.execute_reply": "2020-09-23T12:23:19.897284Z"
    },
    "papermill": {
     "duration": 0.149436,
     "end_time": "2020-09-23T12:23:19.898265",
     "exception": false,
     "start_time": "2020-09-23T12:23:19.748829",
     "status": "completed"
    },
    "tags": []
   },
   "outputs": [
    {
     "data": {
      "text/plain": [
       "June         11234\n",
       "December     11200\n",
       "May          11128\n",
       "April        10182\n",
       "March         9674\n",
       "January       9284\n",
       "February      9022\n",
       "October       8750\n",
       "November      8734\n",
       "August        8200\n",
       "September     8166\n",
       "July          7462\n",
       "Name: Month, dtype: int64"
      ]
     },
     "execution_count": 23,
     "metadata": {},
     "output_type": "execute_result"
    }
   ],
   "source": [
    "Sales['Month'].value_counts()"
   ]
  },
  {
   "cell_type": "code",
   "execution_count": 24,
   "metadata": {
    "execution": {
     "iopub.execute_input": "2020-09-23T12:23:20.166920Z",
     "iopub.status.busy": "2020-09-23T12:23:20.153607Z",
     "iopub.status.idle": "2020-09-23T12:23:20.433118Z",
     "shell.execute_reply": "2020-09-23T12:23:20.432427Z"
    },
    "papermill": {
     "duration": 0.42572,
     "end_time": "2020-09-23T12:23:20.433249",
     "exception": false,
     "start_time": "2020-09-23T12:23:20.007529",
     "status": "completed"
    },
    "tags": []
   },
   "outputs": [
    {
     "data": {
      "text/plain": [
       "<matplotlib.legend.Legend at 0x7f2ae2b58b10>"
      ]
     },
     "execution_count": 24,
     "metadata": {},
     "output_type": "execute_result"
    },
    {
     "data": {
      "image/png": "[encoded data removed]",
      "text/plain": [
       "<Figure size 864x432 with 1 Axes>"
      ]
     },
     "metadata": {
      "needs_background": "light"
     },
     "output_type": "display_data"
    }
   ],
   "source": [
    "Sales[\"Month\"].value_counts().plot(kind=\"bar\",figsize=(12,6))\n",
    "plt.legend()"
   ]
  },
  {
   "cell_type": "markdown",
   "metadata": {
    "papermill": {
     "duration": 0.112903,
     "end_time": "2020-09-23T12:23:20.658385",
     "exception": false,
     "start_time": "2020-09-23T12:23:20.545482",
     "status": "completed"
    },
    "tags": []
   },
   "source": [
    "> ### Sales evolve through the years"
   ]
  },
  {
   "cell_type": "code",
   "execution_count": 25,
   "metadata": {
    "execution": {
     "iopub.execute_input": "2020-09-23T12:23:20.883712Z",
     "iopub.status.busy": "2020-09-23T12:23:20.882551Z",
     "iopub.status.idle": "2020-09-23T12:23:21.111993Z",
     "shell.execute_reply": "2020-09-23T12:23:21.111226Z"
    },
    "papermill": {
     "duration": 0.344789,
     "end_time": "2020-09-23T12:23:21.112159",
     "exception": false,
     "start_time": "2020-09-23T12:23:20.767370",
     "status": "completed"
    },
    "tags": []
   },
   "outputs": [
    {
     "data": {
      "text/plain": [
       "<matplotlib.legend.Legend at 0x7f2ae2acce90>"
      ]
     },
     "execution_count": 25,
     "metadata": {},
     "output_type": "execute_result"
    },
    {
     "data": {
      "image/png": "[encoded data removed]",
      "text/plain": [
       "<Figure size 1008x432 with 1 Axes>"
      ]
     },
     "metadata": {
      "needs_background": "light"
     },
     "output_type": "display_data"
    }
   ],
   "source": [
    "Sales['Calculated_Date'].value_counts().plot(kind=\"line\",figsize=(14,6))\n",
    "plt.legend()"
   ]
  },
  {
   "cell_type": "markdown",
   "metadata": {
    "papermill": {
     "duration": 0.11463,
     "end_time": "2020-09-23T12:23:21.339892",
     "exception": false,
     "start_time": "2020-09-23T12:23:21.225262",
     "status": "completed"
    },
    "tags": []
   },
   "source": [
    "### Increase 50 Udollar'S revenue to every sale"
   ]
  },
  {
   "cell_type": "code",
   "execution_count": 26,
   "metadata": {
    "execution": {
     "iopub.execute_input": "2020-09-23T12:23:21.569453Z",
     "iopub.status.busy": "2020-09-23T12:23:21.568681Z",
     "iopub.status.idle": "2020-09-23T12:23:21.597588Z",
     "shell.execute_reply": "2020-09-23T12:23:21.596972Z"
    },
    "papermill": {
     "duration": 0.146047,
     "end_time": "2020-09-23T12:23:21.597718",
     "exception": false,
     "start_time": "2020-09-23T12:23:21.451671",
     "status": "completed"
    },
    "tags": []
   },
   "outputs": [
    {
     "data": {
      "text/plain": [
       "0         1000\n",
       "1         1000\n",
       "2         2451\n",
       "3         2138\n",
       "4          468\n",
       "          ... \n",
       "113031     234\n",
       "113032    1233\n",
       "113033    1233\n",
       "113034    1310\n",
       "113035    1257\n",
       "Name: Revenue, Length: 113036, dtype: int64"
      ]
     },
     "execution_count": 26,
     "metadata": {},
     "output_type": "execute_result"
    }
   ],
   "source": [
    "Sales['Revenue']+50"
   ]
  },
  {
   "cell_type": "markdown",
   "metadata": {
    "papermill": {
     "duration": 0.1115,
     "end_time": "2020-09-23T12:23:21.822725",
     "exception": false,
     "start_time": "2020-09-23T12:23:21.711225",
     "status": "completed"
    },
    "tags": []
   },
   "source": [
    "> ## Categorical Analysis and visualization\n",
    "_We'll analyze the categorical features column_"
   ]
  },
  {
   "cell_type": "markdown",
   "metadata": {
    "papermill": {
     "duration": 0.110835,
     "end_time": "2020-09-23T12:23:22.043308",
     "exception": false,
     "start_time": "2020-09-23T12:23:21.932473",
     "status": "completed"
    },
    "tags": []
   },
   "source": [
    "> ### Sales According to Age Group"
   ]
  },
  {
   "cell_type": "code",
   "execution_count": 27,
   "metadata": {
    "execution": {
     "iopub.execute_input": "2020-09-23T12:23:22.302078Z",
     "iopub.status.busy": "2020-09-23T12:23:22.300986Z",
     "iopub.status.idle": "2020-09-23T12:23:22.309218Z",
     "shell.execute_reply": "2020-09-23T12:23:22.308532Z"
    },
    "papermill": {
     "duration": 0.155814,
     "end_time": "2020-09-23T12:23:22.309353",
     "exception": false,
     "start_time": "2020-09-23T12:23:22.153539",
     "status": "completed"
    },
    "tags": []
   },
   "outputs": [
    {
     "data": {
      "text/plain": [
       "Adults (35-64)          55824\n",
       "Young Adults (25-34)    38654\n",
       "Youth (<25)             17828\n",
       "Seniors (64+)             730\n",
       "Name: Age_Group, dtype: int64"
      ]
     },
     "execution_count": 27,
     "metadata": {},
     "output_type": "execute_result"
    }
   ],
   "source": [
    "Sales['Age_Group'].value_counts()"
   ]
  },
  {
   "cell_type": "code",
   "execution_count": 28,
   "metadata": {
    "execution": {
     "iopub.execute_input": "2020-09-23T12:23:22.586726Z",
     "iopub.status.busy": "2020-09-23T12:23:22.567700Z",
     "iopub.status.idle": "2020-09-23T12:23:22.764205Z",
     "shell.execute_reply": "2020-09-23T12:23:22.764758Z"
    },
    "papermill": {
     "duration": 0.345222,
     "end_time": "2020-09-23T12:23:22.764945",
     "exception": false,
     "start_time": "2020-09-23T12:23:22.419723",
     "status": "completed"
    },
    "tags": []
   },
   "outputs": [
    {
     "data": {
      "text/plain": [
       "Text(0.5, 0, 'Age')"
      ]
     },
     "execution_count": 28,
     "metadata": {},
     "output_type": "execute_result"
    },
    {
     "data": {
      "image/png": "[encoded data removed]",
      "text/plain": [
       "<Figure size 1008x432 with 1 Axes>"
      ]
     },
     "metadata": {
      "needs_background": "light"
     },
     "output_type": "display_data"
    }
   ],
   "source": [
    "Sales[\"Age_Group\"].value_counts().plot(kind='bar',figsize=(14,6))\n",
    "plt.legend()\n",
    "plt.legend()\n",
    "plt.ylabel(\"Sales\")\n",
    "plt.xlabel(\"Age\")"
   ]
  },
  {
   "cell_type": "code",
   "execution_count": 29,
   "metadata": {
    "execution": {
     "iopub.execute_input": "2020-09-23T12:23:23.029088Z",
     "iopub.status.busy": "2020-09-23T12:23:23.016179Z",
     "iopub.status.idle": "2020-09-23T12:23:23.137634Z",
     "shell.execute_reply": "2020-09-23T12:23:23.136848Z"
    },
    "papermill": {
     "duration": 0.258693,
     "end_time": "2020-09-23T12:23:23.137762",
     "exception": false,
     "start_time": "2020-09-23T12:23:22.879069",
     "status": "completed"
    },
    "scrolled": false,
    "tags": []
   },
   "outputs": [
    {
     "data": {
      "text/plain": [
       "Text(0.5, 1.0, 'Age Group')"
      ]
     },
     "execution_count": 29,
     "metadata": {},
     "output_type": "execute_result"
    },
    {
     "data": {
      "image/png": "[encoded data removed]",
      "text/plain": [
       "<Figure size 1008x576 with 1 Axes>"
      ]
     },
     "metadata": {},
     "output_type": "display_data"
    }
   ],
   "source": [
    "Sales[\"Age_Group\"].value_counts().plot(kind='pie',figsize=(14,8),autopct='%1.1f%%',fontsize=13)\n",
    "plt.title(\"Age Group\",fontsize=14)"
   ]
  },
  {
   "cell_type": "markdown",
   "metadata": {
    "papermill": {
     "duration": 0.116063,
     "end_time": "2020-09-23T12:23:23.368363",
     "exception": false,
     "start_time": "2020-09-23T12:23:23.252300",
     "status": "completed"
    },
    "tags": []
   },
   "source": [
    "### Mean of Sales order"
   ]
  },
  {
   "cell_type": "code",
   "execution_count": 30,
   "metadata": {
    "execution": {
     "iopub.execute_input": "2020-09-23T12:23:23.604639Z",
     "iopub.status.busy": "2020-09-23T12:23:23.603423Z",
     "iopub.status.idle": "2020-09-23T12:23:23.609236Z",
     "shell.execute_reply": "2020-09-23T12:23:23.608476Z"
    },
    "papermill": {
     "duration": 0.126893,
     "end_time": "2020-09-23T12:23:23.609387",
     "exception": false,
     "start_time": "2020-09-23T12:23:23.482494",
     "status": "completed"
    },
    "tags": []
   },
   "outputs": [
    {
     "data": {
      "text/plain": [
       "11.901659648253654"
      ]
     },
     "execution_count": 30,
     "metadata": {},
     "output_type": "execute_result"
    }
   ],
   "source": [
    "Sales[\"Order_Quantity\"].mean()"
   ]
  },
  {
   "cell_type": "code",
   "execution_count": 31,
   "metadata": {
    "execution": {
     "iopub.execute_input": "2020-09-23T12:23:23.848842Z",
     "iopub.status.busy": "2020-09-23T12:23:23.847736Z",
     "iopub.status.idle": "2020-09-23T12:23:24.023125Z",
     "shell.execute_reply": "2020-09-23T12:23:24.022335Z"
    },
    "papermill": {
     "duration": 0.298104,
     "end_time": "2020-09-23T12:23:24.023267",
     "exception": false,
     "start_time": "2020-09-23T12:23:23.725163",
     "status": "completed"
    },
    "tags": []
   },
   "outputs": [
    {
     "data": {
      "text/plain": [
       "Text(0.5, 1.0, 'Order Quality')"
      ]
     },
     "execution_count": 31,
     "metadata": {},
     "output_type": "execute_result"
    },
    {
     "data": {
      "image/png": "[encoded data removed]",
      "text/plain": [
       "<Figure size 864x432 with 1 Axes>"
      ]
     },
     "metadata": {
      "needs_background": "light"
     },
     "output_type": "display_data"
    }
   ],
   "source": [
    "Sales[\"Order_Quantity\"].plot(kind='box',vert=False,figsize=(12,6),fontsize=12)\n",
    "plt.title(\"Order Quality\",fontsize=15)\n"
   ]
  },
  {
   "cell_type": "markdown",
   "metadata": {
    "papermill": {
     "duration": 0.117577,
     "end_time": "2020-09-23T12:23:24.259209",
     "exception": false,
     "start_time": "2020-09-23T12:23:24.141632",
     "status": "completed"
    },
    "tags": []
   },
   "source": [
    "> ### Sales According to Country"
   ]
  },
  {
   "cell_type": "code",
   "execution_count": 32,
   "metadata": {
    "execution": {
     "iopub.execute_input": "2020-09-23T12:23:24.529974Z",
     "iopub.status.busy": "2020-09-23T12:23:24.526549Z",
     "iopub.status.idle": "2020-09-23T12:23:24.534401Z",
     "shell.execute_reply": "2020-09-23T12:23:24.534975Z"
    },
    "papermill": {
     "duration": 0.159177,
     "end_time": "2020-09-23T12:23:24.535142",
     "exception": false,
     "start_time": "2020-09-23T12:23:24.375965",
     "status": "completed"
    },
    "tags": []
   },
   "outputs": [
    {
     "data": {
      "text/plain": [
       "United States     39206\n",
       "Australia         23936\n",
       "Canada            14178\n",
       "United Kingdom    13620\n",
       "Germany           11098\n",
       "France            10998\n",
       "Name: Country, dtype: int64"
      ]
     },
     "execution_count": 32,
     "metadata": {},
     "output_type": "execute_result"
    }
   ],
   "source": [
    "Sales['Country'].value_counts()"
   ]
  },
  {
   "cell_type": "code",
   "execution_count": 33,
   "metadata": {
    "execution": {
     "iopub.execute_input": "2020-09-23T12:23:24.820602Z",
     "iopub.status.busy": "2020-09-23T12:23:24.810158Z",
     "iopub.status.idle": "2020-09-23T12:23:25.019557Z",
     "shell.execute_reply": "2020-09-23T12:23:25.020190Z"
    },
    "papermill": {
     "duration": 0.367521,
     "end_time": "2020-09-23T12:23:25.020369",
     "exception": false,
     "start_time": "2020-09-23T12:23:24.652848",
     "status": "completed"
    },
    "scrolled": false,
    "tags": []
   },
   "outputs": [
    {
     "data": {
      "text/plain": [
       "<matplotlib.legend.Legend at 0x7f2ae1923e50>"
      ]
     },
     "execution_count": 33,
     "metadata": {},
     "output_type": "execute_result"
    },
    {
     "data": {
      "image/png": "[encoded data removed]",
      "text/plain": [
       "<Figure size 864x288 with 1 Axes>"
      ]
     },
     "metadata": {
      "needs_background": "light"
     },
     "output_type": "display_data"
    }
   ],
   "source": [
    "Sales['Country'].value_counts().plot(kind='bar',figsize=(12,4))\n",
    "plt.title(\"Sales In Each Country\",fontsize=17)\n",
    "plt.ylabel(\"Sales\",fontsize=15)\n",
    "plt.xlabel(\"Country\",fontsize=15)\n",
    "plt.legend()"
   ]
  },
  {
   "cell_type": "markdown",
   "metadata": {
    "papermill": {
     "duration": 0.11947,
     "end_time": "2020-09-23T12:23:25.258559",
     "exception": false,
     "start_time": "2020-09-23T12:23:25.139089",
     "status": "completed"
    },
    "tags": []
   },
   "source": [
    "> ### List of every product sold"
   ]
  },
  {
   "cell_type": "code",
   "execution_count": 34,
   "metadata": {
    "execution": {
     "iopub.execute_input": "2020-09-23T12:23:25.508880Z",
     "iopub.status.busy": "2020-09-23T12:23:25.508098Z",
     "iopub.status.idle": "2020-09-23T12:23:25.514876Z",
     "shell.execute_reply": "2020-09-23T12:23:25.515502Z"
    },
    "papermill": {
     "duration": 0.139164,
     "end_time": "2020-09-23T12:23:25.515657",
     "exception": false,
     "start_time": "2020-09-23T12:23:25.376493",
     "status": "completed"
    },
    "tags": []
   },
   "outputs": [],
   "source": [
    "MostSales=Sales.loc[: ,\"Product\"].unique()\n",
    "# sales['Product'].unique()"
   ]
  },
  {
   "cell_type": "code",
   "execution_count": 35,
   "metadata": {
    "execution": {
     "iopub.execute_input": "2020-09-23T12:23:25.801589Z",
     "iopub.status.busy": "2020-09-23T12:23:25.794410Z",
     "iopub.status.idle": "2020-09-23T12:23:26.028827Z",
     "shell.execute_reply": "2020-09-23T12:23:26.028062Z"
    },
    "papermill": {
     "duration": 0.394536,
     "end_time": "2020-09-23T12:23:26.028975",
     "exception": false,
     "start_time": "2020-09-23T12:23:25.634439",
     "status": "completed"
    },
    "tags": []
   },
   "outputs": [
    {
     "data": {
      "text/plain": [
       "<matplotlib.legend.Legend at 0x7f2ae18a7f50>"
      ]
     },
     "execution_count": 35,
     "metadata": {},
     "output_type": "execute_result"
    },
    {
     "data": {
      "image/png": "[encoded data removed]",
      "text/plain": [
       "<Figure size 1008x360 with 1 Axes>"
      ]
     },
     "metadata": {
      "needs_background": "light"
     },
     "output_type": "display_data"
    }
   ],
   "source": [
    "Sales.loc[: ,\"Product\"].value_counts().head(10).plot(kind='bar',figsize=(14,5))\n",
    "plt.title(\"List of Products Sales\",fontsize=17)\n",
    "plt.ylabel(\"Number of Products\",fontsize=15)\n",
    "plt.xlabel(\"Products\",fontsize=15)\n",
    "plt.legend()"
   ]
  },
  {
   "cell_type": "markdown",
   "metadata": {
    "papermill": {
     "duration": 0.12143,
     "end_time": "2020-09-23T12:23:26.270083",
     "exception": false,
     "start_time": "2020-09-23T12:23:26.148653",
     "status": "completed"
    },
    "tags": []
   },
   "source": [
    "> ### Relation between Unit cost & Unit Price"
   ]
  },
  {
   "cell_type": "code",
   "execution_count": 36,
   "metadata": {
    "execution": {
     "iopub.execute_input": "2020-09-23T12:23:26.517319Z",
     "iopub.status.busy": "2020-09-23T12:23:26.516502Z",
     "iopub.status.idle": "2020-09-23T12:23:27.099187Z",
     "shell.execute_reply": "2020-09-23T12:23:27.099733Z"
    },
    "papermill": {
     "duration": 0.709473,
     "end_time": "2020-09-23T12:23:27.099896",
     "exception": false,
     "start_time": "2020-09-23T12:23:26.390423",
     "status": "completed"
    },
    "tags": []
   },
   "outputs": [
    {
     "data": {
      "text/plain": [
       "Text(0.5, 0, 'Unit Cost')"
      ]
     },
     "execution_count": 36,
     "metadata": {},
     "output_type": "execute_result"
    },
    {
     "data": {
      "image/png": "[encoded data removed]",
      "text/plain": [
       "<Figure size 864x288 with 1 Axes>"
      ]
     },
     "metadata": {
      "needs_background": "light"
     },
     "output_type": "display_data"
    }
   ],
   "source": [
    "Sales.plot(kind='scatter',x=\"Unit_Cost\", y=\"Unit_Price\",figsize=(12,4),fontsize=10)\n",
    "plt.title(\"Relation between Unit cost & Unit Price\",fontsize=17)\n",
    "plt.ylabel(\"Unit Price\",fontsize=15)\n",
    "plt.xlabel(\"Unit Cost\",fontsize=15)\n"
   ]
  },
  {
   "cell_type": "markdown",
   "metadata": {
    "papermill": {
     "duration": 0.123453,
     "end_time": "2020-09-23T12:23:27.348056",
     "exception": false,
     "start_time": "2020-09-23T12:23:27.224603",
     "status": "completed"
    },
    "tags": []
   },
   "source": [
    "> ### Relation between Order Quantitity & Profit"
   ]
  },
  {
   "cell_type": "code",
   "execution_count": 37,
   "metadata": {
    "execution": {
     "iopub.execute_input": "2020-09-23T12:23:27.600299Z",
     "iopub.status.busy": "2020-09-23T12:23:27.598720Z",
     "iopub.status.idle": "2020-09-23T12:23:27.806522Z",
     "shell.execute_reply": "2020-09-23T12:23:27.807125Z"
    },
    "papermill": {
     "duration": 0.337768,
     "end_time": "2020-09-23T12:23:27.807296",
     "exception": false,
     "start_time": "2020-09-23T12:23:27.469528",
     "status": "completed"
    },
    "tags": []
   },
   "outputs": [
    {
     "data": {
      "text/plain": [
       "Text(0.5, 1.0, 'Relation Between Order Quantity & Profit')"
      ]
     },
     "execution_count": 37,
     "metadata": {},
     "output_type": "execute_result"
    },
    {
     "data": {
      "image/png": "[encoded data removed]",
      "text/plain": [
       "<Figure size 864x288 with 1 Axes>"
      ]
     },
     "metadata": {
      "needs_background": "light"
     },
     "output_type": "display_data"
    }
   ],
   "source": [
    "Sales.plot(kind=\"box\",x='Order_Quantity',y='Profit',figsize=(12,4),fontsize=10)\n",
    "plt.title(\"Relation Between Order Quantity & Profit\",fontsize=15)\n"
   ]
  },
  {
   "cell_type": "markdown",
   "metadata": {
    "papermill": {
     "duration": 0.123047,
     "end_time": "2020-09-23T12:23:28.052974",
     "exception": false,
     "start_time": "2020-09-23T12:23:27.929927",
     "status": "completed"
    },
    "tags": []
   },
   "source": [
    "> ### Relation between Country & Unit Profit"
   ]
  },
  {
   "cell_type": "code",
   "execution_count": 38,
   "metadata": {
    "execution": {
     "iopub.execute_input": "2020-09-23T12:23:28.308706Z",
     "iopub.status.busy": "2020-09-23T12:23:28.307954Z",
     "iopub.status.idle": "2020-09-23T12:23:28.536041Z",
     "shell.execute_reply": "2020-09-23T12:23:28.537219Z"
    },
    "papermill": {
     "duration": 0.360497,
     "end_time": "2020-09-23T12:23:28.537483",
     "exception": false,
     "start_time": "2020-09-23T12:23:28.176986",
     "status": "completed"
    },
    "tags": []
   },
   "outputs": [
    {
     "data": {
      "text/plain": [
       "Text(0.5, 1.0, 'Relation between Country & Unit Profit')"
      ]
     },
     "execution_count": 38,
     "metadata": {},
     "output_type": "execute_result"
    },
    {
     "data": {
      "image/png": "[encoded data removed]",
      "text/plain": [
       "<Figure size 864x288 with 1 Axes>"
      ]
     },
     "metadata": {
      "needs_background": "light"
     },
     "output_type": "display_data"
    }
   ],
   "source": [
    "Sales.plot(kind=\"box\",x='Country',y='Profit',figsize=(12,4),fontsize=13,vert=False )\n",
    "plt.title(\"Relation between Country & Unit Profit\",fontsize=17)\n"
   ]
  },
  {
   "cell_type": "markdown",
   "metadata": {
    "papermill": {
     "duration": 0.128976,
     "end_time": "2020-09-23T12:23:28.820827",
     "exception": false,
     "start_time": "2020-09-23T12:23:28.691851",
     "status": "completed"
    },
    "tags": []
   },
   "source": [
    "> ### Customer Age According to Country"
   ]
  },
  {
   "cell_type": "code",
   "execution_count": 39,
   "metadata": {
    "execution": {
     "iopub.execute_input": "2020-09-23T12:23:29.102138Z",
     "iopub.status.busy": "2020-09-23T12:23:29.101006Z",
     "iopub.status.idle": "2020-09-23T12:23:29.377160Z",
     "shell.execute_reply": "2020-09-23T12:23:29.376365Z"
    },
    "papermill": {
     "duration": 0.425883,
     "end_time": "2020-09-23T12:23:29.377299",
     "exception": false,
     "start_time": "2020-09-23T12:23:28.951416",
     "status": "completed"
    },
    "tags": []
   },
   "outputs": [
    {
     "data": {
      "text/plain": [
       "<matplotlib.axes._subplots.AxesSubplot at 0x7f2ae2ae7350>"
      ]
     },
     "execution_count": 39,
     "metadata": {},
     "output_type": "execute_result"
    },
    {
     "data": {
      "image/png": "[encoded data removed]",
      "text/plain": [
       "<Figure size 720x432 with 1 Axes>"
      ]
     },
     "metadata": {
      "needs_background": "light"
     },
     "output_type": "display_data"
    }
   ],
   "source": [
    "Sales[[\"Customer_Age\",\"Country\"]].boxplot(by='Country',figsize=(10,6))"
   ]
  },
  {
   "cell_type": "markdown",
   "metadata": {
    "papermill": {
     "duration": 0.129424,
     "end_time": "2020-09-23T12:23:29.636294",
     "exception": false,
     "start_time": "2020-09-23T12:23:29.506870",
     "status": "completed"
    },
    "tags": []
   },
   "source": [
    " > ### How many orders were made in Canada or France?"
   ]
  },
  {
   "cell_type": "code",
   "execution_count": 40,
   "metadata": {
    "execution": {
     "iopub.execute_input": "2020-09-23T12:23:29.945563Z",
     "iopub.status.busy": "2020-09-23T12:23:29.944641Z",
     "iopub.status.idle": "2020-09-23T12:23:29.956303Z",
     "shell.execute_reply": "2020-09-23T12:23:29.955528Z"
    },
    "papermill": {
     "duration": 0.18729,
     "end_time": "2020-09-23T12:23:29.956426",
     "exception": false,
     "start_time": "2020-09-23T12:23:29.769136",
     "status": "completed"
    },
    "scrolled": true,
    "tags": []
   },
   "outputs": [
    {
     "data": {
      "text/plain": [
       "25176"
      ]
     },
     "execution_count": 40,
     "metadata": {},
     "output_type": "execute_result"
    }
   ],
   "source": [
    "Sales.loc[((Sales['Country']=='Canada' ) |  (Sales['Country']=='France' ))].shape[0]"
   ]
  },
  {
   "cell_type": "markdown",
   "metadata": {
    "papermill": {
     "duration": 0.129214,
     "end_time": "2020-09-23T12:23:30.220087",
     "exception": false,
     "start_time": "2020-09-23T12:23:30.090873",
     "status": "completed"
    },
    "tags": []
   },
   "source": [
    " > ### How many Bike Racks orders were made from Canada?"
   ]
  },
  {
   "cell_type": "code",
   "execution_count": 41,
   "metadata": {
    "execution": {
     "iopub.execute_input": "2020-09-23T12:23:30.524087Z",
     "iopub.status.busy": "2020-09-23T12:23:30.504513Z",
     "iopub.status.idle": "2020-09-23T12:23:30.531309Z",
     "shell.execute_reply": "2020-09-23T12:23:30.530690Z"
    },
    "papermill": {
     "duration": 0.17792,
     "end_time": "2020-09-23T12:23:30.531442",
     "exception": false,
     "start_time": "2020-09-23T12:23:30.353522",
     "status": "completed"
    },
    "tags": []
   },
   "outputs": [
    {
     "data": {
      "text/plain": [
       "104"
      ]
     },
     "execution_count": 41,
     "metadata": {},
     "output_type": "execute_result"
    }
   ],
   "source": [
    "Sales.loc[(Sales['Country']=='Canada' ) & (Sales['Sub_Category']==\"Bike Racks\")].shape[0]"
   ]
  },
  {
   "cell_type": "markdown",
   "metadata": {
    "papermill": {
     "duration": 0.1282,
     "end_time": "2020-09-23T12:23:30.787165",
     "exception": false,
     "start_time": "2020-09-23T12:23:30.658965",
     "status": "completed"
    },
    "tags": []
   },
   "source": [
    "> ### Sales in Each State of France"
   ]
  },
  {
   "cell_type": "code",
   "execution_count": 42,
   "metadata": {
    "execution": {
     "iopub.execute_input": "2020-09-23T12:23:31.072775Z",
     "iopub.status.busy": "2020-09-23T12:23:31.071712Z",
     "iopub.status.idle": "2020-09-23T12:23:31.084396Z",
     "shell.execute_reply": "2020-09-23T12:23:31.083613Z"
    },
    "papermill": {
     "duration": 0.169162,
     "end_time": "2020-09-23T12:23:31.084524",
     "exception": false,
     "start_time": "2020-09-23T12:23:30.915362",
     "status": "completed"
    },
    "tags": []
   },
   "outputs": [
    {
     "data": {
      "text/plain": [
       "Seine (Paris)        2328\n",
       "Seine Saint Denis    1684\n",
       "Nord                 1670\n",
       "Hauts de Seine       1084\n",
       "Essonne               994\n",
       "Yveline               954\n",
       "Seine et Marne        394\n",
       "Moselle               386\n",
       "Loiret                382\n",
       "Val d'Oise            264\n",
       "Garonne (Haute)       208\n",
       "Val de Marne          158\n",
       "Charente-Maritime     148\n",
       "Somme                 134\n",
       "Loir et Cher          120\n",
       "Pas de Calais          90\n",
       "Name: State, dtype: int64"
      ]
     },
     "execution_count": 42,
     "metadata": {},
     "output_type": "execute_result"
    }
   ],
   "source": [
    "Sales.loc[Sales[\"Country\"]==\"France\",\"State\"].value_counts()"
   ]
  },
  {
   "cell_type": "code",
   "execution_count": 43,
   "metadata": {
    "execution": {
     "iopub.execute_input": "2020-09-23T12:23:31.403646Z",
     "iopub.status.busy": "2020-09-23T12:23:31.375391Z",
     "iopub.status.idle": "2020-09-23T12:23:31.686475Z",
     "shell.execute_reply": "2020-09-23T12:23:31.685649Z"
    },
    "papermill": {
     "duration": 0.470897,
     "end_time": "2020-09-23T12:23:31.686620",
     "exception": false,
     "start_time": "2020-09-23T12:23:31.215723",
     "status": "completed"
    },
    "tags": []
   },
   "outputs": [
    {
     "data": {
      "text/plain": [
       "<matplotlib.legend.Legend at 0x7f2ae15e4290>"
      ]
     },
     "execution_count": 43,
     "metadata": {},
     "output_type": "execute_result"
    },
    {
     "data": {
      "image/png": "[encoded data removed]",
      "text/plain": [
       "<Figure size 1152x360 with 1 Axes>"
      ]
     },
     "metadata": {
      "needs_background": "light"
     },
     "output_type": "display_data"
    }
   ],
   "source": [
    "Sales.loc[Sales[\"Country\"]==\"France\",\"State\"].value_counts().plot(kind='bar',figsize=(16,5))\n",
    "plt.title(\"Sales in Each state of France\",fontsize=17)\n",
    "plt.ylabel(\"Number of Sales\",fontsize=15)\n",
    "plt.xlabel(\"States\",fontsize=15)\n",
    "plt.legend()\n",
    "\n",
    "plt.legend()"
   ]
  },
  {
   "cell_type": "markdown",
   "metadata": {
    "papermill": {
     "duration": 0.134698,
     "end_time": "2020-09-23T12:23:31.955874",
     "exception": false,
     "start_time": "2020-09-23T12:23:31.821176",
     "status": "completed"
    },
    "tags": []
   },
   "source": [
    "### How many sales were made per category?"
   ]
  },
  {
   "cell_type": "code",
   "execution_count": 44,
   "metadata": {
    "execution": {
     "iopub.execute_input": "2020-09-23T12:23:32.265436Z",
     "iopub.status.busy": "2020-09-23T12:23:32.261845Z",
     "iopub.status.idle": "2020-09-23T12:23:32.270682Z",
     "shell.execute_reply": "2020-09-23T12:23:32.269922Z"
    },
    "papermill": {
     "duration": 0.178241,
     "end_time": "2020-09-23T12:23:32.270816",
     "exception": false,
     "start_time": "2020-09-23T12:23:32.092575",
     "status": "completed"
    },
    "tags": []
   },
   "outputs": [
    {
     "data": {
      "text/plain": [
       "Tires and Tubes      33870\n",
       "Bottles and Cages    15876\n",
       "Road Bikes           13430\n",
       "Helmets              12158\n",
       "Mountain Bikes        8854\n",
       "Jerseys               6010\n",
       "Caps                  4358\n",
       "Fenders               4032\n",
       "Touring Bikes         3698\n",
       "Gloves                2686\n",
       "Cleaners              1802\n",
       "Shorts                1794\n",
       "Hydration Packs       1334\n",
       "Socks                 1122\n",
       "Vests                  964\n",
       "Bike Racks             592\n",
       "Bike Stands            456\n",
       "Name: Sub_Category, dtype: int64"
      ]
     },
     "execution_count": 44,
     "metadata": {},
     "output_type": "execute_result"
    }
   ],
   "source": [
    "Sales['Sub_Category'].value_counts()"
   ]
  },
  {
   "cell_type": "code",
   "execution_count": 45,
   "metadata": {
    "execution": {
     "iopub.execute_input": "2020-09-23T12:23:32.584859Z",
     "iopub.status.busy": "2020-09-23T12:23:32.579622Z",
     "iopub.status.idle": "2020-09-23T12:23:32.761251Z",
     "shell.execute_reply": "2020-09-23T12:23:32.762031Z"
    },
    "papermill": {
     "duration": 0.356219,
     "end_time": "2020-09-23T12:23:32.762219",
     "exception": false,
     "start_time": "2020-09-23T12:23:32.406000",
     "status": "completed"
    },
    "tags": []
   },
   "outputs": [
    {
     "ename": "NameError",
     "evalue": "name 'wedges' is not defined",
     "output_type": "error",
     "traceback": [
      "\u001b[0;31m---------------------------------------------------------------------------\u001b[0m",
      "\u001b[0;31mNameError\u001b[0m                                 Traceback (most recent call last)",
      "\u001b[0;32m<ipython-input-45-401dbc1a35c2>\u001b[0m in \u001b[0;36m<module>\u001b[0;34m\u001b[0m\n\u001b[1;32m      2\u001b[0m \u001b[0mCat\u001b[0m\u001b[0;34m=\u001b[0m\u001b[0mSales\u001b[0m\u001b[0;34m[\u001b[0m\u001b[0;34m'Sub_Category'\u001b[0m\u001b[0;34m]\u001b[0m\u001b[0;34m.\u001b[0m\u001b[0munique\u001b[0m\u001b[0;34m(\u001b[0m\u001b[0;34m)\u001b[0m\u001b[0;34m\u001b[0m\u001b[0;34m\u001b[0m\u001b[0m\n\u001b[1;32m      3\u001b[0m \u001b[0mplt\u001b[0m\u001b[0;34m.\u001b[0m\u001b[0mtitle\u001b[0m\u001b[0;34m(\u001b[0m\u001b[0;34m\"Products Category\"\u001b[0m\u001b[0;34m,\u001b[0m\u001b[0mfontsize\u001b[0m\u001b[0;34m=\u001b[0m\u001b[0;36m15\u001b[0m\u001b[0;34m)\u001b[0m\u001b[0;34m\u001b[0m\u001b[0;34m\u001b[0m\u001b[0m\n\u001b[0;32m----> 4\u001b[0;31m \u001b[0mplt\u001b[0m\u001b[0;34m.\u001b[0m\u001b[0mlegend\u001b[0m\u001b[0;34m(\u001b[0m\u001b[0mwedges\u001b[0m\u001b[0;34m,\u001b[0m \u001b[0mCat\u001b[0m\u001b[0;34m,\u001b[0m\u001b[0mfontsize\u001b[0m\u001b[0;34m=\u001b[0m\u001b[0;36m12\u001b[0m\u001b[0;34m,\u001b[0m\u001b[0mloc\u001b[0m\u001b[0;34m=\u001b[0m\u001b[0;34m\"center left\"\u001b[0m\u001b[0;34m,\u001b[0m\u001b[0mbbox_to_anchor\u001b[0m\u001b[0;34m=\u001b[0m\u001b[0;34m(\u001b[0m\u001b[0;36m1\u001b[0m\u001b[0;34m,\u001b[0m \u001b[0;36m0\u001b[0m\u001b[0;34m,\u001b[0m \u001b[0;36m0.5\u001b[0m\u001b[0;34m,\u001b[0m \u001b[0;36m1\u001b[0m\u001b[0;34m)\u001b[0m\u001b[0;34m)\u001b[0m\u001b[0;34m\u001b[0m\u001b[0;34m\u001b[0m\u001b[0m\n\u001b[0m\u001b[1;32m      5\u001b[0m \u001b[0;34m\u001b[0m\u001b[0m\n",
      "\u001b[0;31mNameError\u001b[0m: name 'wedges' is not defined"
     ]
    },
    {
     "data": {
      "image/png": "[encoded data removed]",
      "text/plain": [
       "<Figure size 576x576 with 1 Axes>"
      ]
     },
     "metadata": {},
     "output_type": "display_data"
    }
   ],
   "source": [
    "Sales['Product_Category'].value_counts().plot(kind='pie',figsize=(8,8),autopct='%1.1f%%',fontsize=12)\n",
    "Cat=Sales['Sub_Category'].unique()\n",
    "plt.title(\"Products Category\",fontsize=15)\n",
    "plt.legend(wedges, Cat,fontsize=12,loc=\"center left\",bbox_to_anchor=(1, 0, 0.5, 1))\n",
    "\n"
   ]
  },
  {
   "cell_type": "code",
   "execution_count": 46,
   "metadata": {
    "execution": {
     "iopub.execute_input": "2020-09-23T12:23:33.077334Z",
     "iopub.status.busy": "2020-09-23T12:23:33.074065Z",
     "iopub.status.idle": "2020-09-23T12:23:33.082894Z",
     "shell.execute_reply": "2020-09-23T12:23:33.082084Z"
    },
    "papermill": {
     "duration": 0.18222,
     "end_time": "2020-09-23T12:23:33.083051",
     "exception": false,
     "start_time": "2020-09-23T12:23:32.900831",
     "status": "completed"
    },
    "tags": []
   },
   "outputs": [
    {
     "data": {
      "text/plain": [
       "Tires and Tubes      33870\n",
       "Bottles and Cages    15876\n",
       "Road Bikes           13430\n",
       "Helmets              12158\n",
       "Mountain Bikes        8854\n",
       "Jerseys               6010\n",
       "Caps                  4358\n",
       "Fenders               4032\n",
       "Touring Bikes         3698\n",
       "Gloves                2686\n",
       "Cleaners              1802\n",
       "Shorts                1794\n",
       "Hydration Packs       1334\n",
       "Socks                 1122\n",
       "Vests                  964\n",
       "Bike Racks             592\n",
       "Bike Stands            456\n",
       "Name: Sub_Category, dtype: int64"
      ]
     },
     "execution_count": 46,
     "metadata": {},
     "output_type": "execute_result"
    }
   ],
   "source": [
    "Sales[\"Sub_Category\"].value_counts()"
   ]
  },
  {
   "cell_type": "code",
   "execution_count": 47,
   "metadata": {
    "execution": {
     "iopub.execute_input": "2020-09-23T12:23:33.394210Z",
     "iopub.status.busy": "2020-09-23T12:23:33.392895Z",
     "iopub.status.idle": "2020-09-23T12:23:33.421988Z",
     "shell.execute_reply": "2020-09-23T12:23:33.421289Z"
    },
    "papermill": {
     "duration": 0.198687,
     "end_time": "2020-09-23T12:23:33.422121",
     "exception": false,
     "start_time": "2020-09-23T12:23:33.223434",
     "status": "completed"
    },
    "tags": []
   },
   "outputs": [
    {
     "data": {
      "text/plain": [
       "Tires and Tubes      33870\n",
       "Bottles and Cages    15876\n",
       "Helmets              12158\n",
       "Fenders               4032\n",
       "Cleaners              1802\n",
       "Hydration Packs       1334\n",
       "Bike Racks             592\n",
       "Bike Stands            456\n",
       "Name: Sub_Category, dtype: int64"
      ]
     },
     "execution_count": 47,
     "metadata": {},
     "output_type": "execute_result"
    }
   ],
   "source": [
    "Sales.loc[Sales['Product_Category']=='Accessories' ,\"Sub_Category\"].value_counts()"
   ]
  },
  {
   "cell_type": "code",
   "execution_count": 48,
   "metadata": {
    "execution": {
     "iopub.execute_input": "2020-09-23T12:23:33.729019Z",
     "iopub.status.busy": "2020-09-23T12:23:33.728175Z",
     "iopub.status.idle": "2020-09-23T12:23:33.975143Z",
     "shell.execute_reply": "2020-09-23T12:23:33.974469Z"
    },
    "papermill": {
     "duration": 0.411575,
     "end_time": "2020-09-23T12:23:33.975338",
     "exception": false,
     "start_time": "2020-09-23T12:23:33.563763",
     "status": "completed"
    },
    "tags": []
   },
   "outputs": [
    {
     "data": {
      "text/plain": [
       "<matplotlib.legend.Legend at 0x7f2ae153c750>"
      ]
     },
     "execution_count": 48,
     "metadata": {},
     "output_type": "execute_result"
    },
    {
     "data": {
      "image/png": "[encoded data removed]",
      "text/plain": [
       "<Figure size 1152x288 with 1 Axes>"
      ]
     },
     "metadata": {
      "needs_background": "light"
     },
     "output_type": "display_data"
    }
   ],
   "source": [
    "Sales.loc[Sales['Product_Category']=='Accessories' ,\"Sub_Category\"].value_counts().plot(kind=\"bar\",figsize=(16,4))\n",
    "plt.legend()"
   ]
  },
  {
   "cell_type": "code",
   "execution_count": 49,
   "metadata": {
    "execution": {
     "iopub.execute_input": "2020-09-23T12:23:34.295598Z",
     "iopub.status.busy": "2020-09-23T12:23:34.294194Z",
     "iopub.status.idle": "2020-09-23T12:23:34.311227Z",
     "shell.execute_reply": "2020-09-23T12:23:34.310392Z"
    },
    "papermill": {
     "duration": 0.189223,
     "end_time": "2020-09-23T12:23:34.311370",
     "exception": false,
     "start_time": "2020-09-23T12:23:34.122147",
     "status": "completed"
    },
    "scrolled": true,
    "tags": []
   },
   "outputs": [
    {
     "data": {
      "text/plain": [
       "Road Bikes        13430\n",
       "Mountain Bikes     8854\n",
       "Touring Bikes      3698\n",
       "Name: Sub_Category, dtype: int64"
      ]
     },
     "execution_count": 49,
     "metadata": {},
     "output_type": "execute_result"
    }
   ],
   "source": [
    "Sales.loc[Sales['Product_Category']==\"Bikes\",\"Sub_Category\"].value_counts()"
   ]
  },
  {
   "cell_type": "code",
   "execution_count": 50,
   "metadata": {
    "execution": {
     "iopub.execute_input": "2020-09-23T12:23:34.627643Z",
     "iopub.status.busy": "2020-09-23T12:23:34.626774Z",
     "iopub.status.idle": "2020-09-23T12:23:34.772893Z",
     "shell.execute_reply": "2020-09-23T12:23:34.771759Z"
    },
    "papermill": {
     "duration": 0.31962,
     "end_time": "2020-09-23T12:23:34.773169",
     "exception": false,
     "start_time": "2020-09-23T12:23:34.453549",
     "status": "completed"
    },
    "tags": []
   },
   "outputs": [
    {
     "data": {
      "text/plain": [
       "Text(0.5, 1.0, 'Products Category in Bikes')"
      ]
     },
     "execution_count": 50,
     "metadata": {},
     "output_type": "execute_result"
    },
    {
     "data": {
      "image/png": "[encoded data removed]",
      "text/plain": [
       "<Figure size 576x576 with 1 Axes>"
      ]
     },
     "metadata": {},
     "output_type": "display_data"
    }
   ],
   "source": [
    "Pc=Sales.loc[Sales['Product_Category']==\"Bikes\",\"Sub_Category\"].unique()\n",
    "Sales.loc[Sales['Product_Category']==\"Bikes\",\"Sub_Category\"].value_counts().plot(kind=\"pie\",figsize=(8,8),fontsize=12)\n",
    "plt.legend(fontsize=13,loc=\"center left\",bbox_to_anchor=(1, 0, 0.5, 1))\n",
    "plt.title(\"Products Category in Bikes\",fontsize=15)\n",
    "\n"
   ]
  },
  {
   "cell_type": "markdown",
   "metadata": {
    "papermill": {
     "duration": 0.144753,
     "end_time": "2020-09-23T12:23:35.059473",
     "exception": false,
     "start_time": "2020-09-23T12:23:34.914720",
     "status": "completed"
    },
    "tags": []
   },
   "source": [
    "### Which gender has the most amount of sales?"
   ]
  },
  {
   "cell_type": "code",
   "execution_count": 51,
   "metadata": {
    "execution": {
     "iopub.execute_input": "2020-09-23T12:23:35.383875Z",
     "iopub.status.busy": "2020-09-23T12:23:35.380562Z",
     "iopub.status.idle": "2020-09-23T12:23:35.388980Z",
     "shell.execute_reply": "2020-09-23T12:23:35.388202Z"
    },
    "papermill": {
     "duration": 0.183318,
     "end_time": "2020-09-23T12:23:35.389106",
     "exception": false,
     "start_time": "2020-09-23T12:23:35.205788",
     "status": "completed"
    },
    "tags": []
   },
   "outputs": [
    {
     "data": {
      "text/plain": [
       "M    58312\n",
       "F    54724\n",
       "Name: Customer_Gender, dtype: int64"
      ]
     },
     "execution_count": 51,
     "metadata": {},
     "output_type": "execute_result"
    }
   ],
   "source": [
    "Sales['Customer_Gender'].value_counts()"
   ]
  },
  {
   "cell_type": "code",
   "execution_count": 52,
   "metadata": {
    "execution": {
     "iopub.execute_input": "2020-09-23T12:23:35.705141Z",
     "iopub.status.busy": "2020-09-23T12:23:35.700428Z",
     "iopub.status.idle": "2020-09-23T12:23:35.852868Z",
     "shell.execute_reply": "2020-09-23T12:23:35.852182Z"
    },
    "papermill": {
     "duration": 0.325013,
     "end_time": "2020-09-23T12:23:35.853050",
     "exception": false,
     "start_time": "2020-09-23T12:23:35.528037",
     "status": "completed"
    },
    "tags": []
   },
   "outputs": [
    {
     "data": {
      "text/plain": [
       "Text(0, 0.5, 'Sales')"
      ]
     },
     "execution_count": 52,
     "metadata": {},
     "output_type": "execute_result"
    },
    {
     "data": {
      "image/png": "[encoded data removed]",
      "text/plain": [
       "<Figure size 576x432 with 1 Axes>"
      ]
     },
     "metadata": {
      "needs_background": "light"
     },
     "output_type": "display_data"
    }
   ],
   "source": [
    "Sales['Customer_Gender'].value_counts().plot(kind='bar',fontsize=12,figsize=(8,6))\n",
    "plt.ylabel(\"Sales\",fontsize=13)\n"
   ]
  },
  {
   "cell_type": "markdown",
   "metadata": {
    "papermill": {
     "duration": 0.143159,
     "end_time": "2020-09-23T12:23:36.139630",
     "exception": false,
     "start_time": "2020-09-23T12:23:35.996471",
     "status": "completed"
    },
    "tags": []
   },
   "source": [
    "### How many sales with more than 500 in Revenue were made by men?"
   ]
  },
  {
   "cell_type": "code",
   "execution_count": 53,
   "metadata": {
    "execution": {
     "iopub.execute_input": "2020-09-23T12:23:36.448257Z",
     "iopub.status.busy": "2020-09-23T12:23:36.447261Z",
     "iopub.status.idle": "2020-09-23T12:23:36.459704Z",
     "shell.execute_reply": "2020-09-23T12:23:36.459088Z"
    },
    "papermill": {
     "duration": 0.177175,
     "end_time": "2020-09-23T12:23:36.459839",
     "exception": false,
     "start_time": "2020-09-23T12:23:36.282664",
     "status": "completed"
    },
    "scrolled": true,
    "tags": []
   },
   "outputs": [
    {
     "data": {
      "text/plain": [
       "21781"
      ]
     },
     "execution_count": 53,
     "metadata": {},
     "output_type": "execute_result"
    }
   ],
   "source": [
    "Sales.loc[(Sales['Customer_Gender']==\"M\") & (Sales[\"Revenue\"]>=500)].shape[0]"
   ]
  },
  {
   "cell_type": "markdown",
   "metadata": {
    "papermill": {
     "duration": 0.143837,
     "end_time": "2020-09-23T12:23:36.745602",
     "exception": false,
     "start_time": "2020-09-23T12:23:36.601765",
     "status": "completed"
    },
    "tags": []
   },
   "source": [
    "### Get the top-5 sales with the highest revenue"
   ]
  },
  {
   "cell_type": "code",
   "execution_count": 54,
   "metadata": {
    "execution": {
     "iopub.execute_input": "2020-09-23T12:23:37.044688Z",
     "iopub.status.busy": "2020-09-23T12:23:37.043701Z",
     "iopub.status.idle": "2020-09-23T12:23:37.111431Z",
     "shell.execute_reply": "2020-09-23T12:23:37.112181Z"
    },
    "papermill": {
     "duration": 0.22134,
     "end_time": "2020-09-23T12:23:37.112350",
     "exception": false,
     "start_time": "2020-09-23T12:23:36.891010",
     "status": "completed"
    },
    "tags": []
   },
   "outputs": [
    {
     "data": {
      "text/html": [
       "<div>\n",
       "<style scoped>\n",
       "    .dataframe tbody tr th:only-of-type {\n",
       "        vertical-align: middle;\n",
       "    }\n",
       "\n",
       "    .dataframe tbody tr th {\n",
       "        vertical-align: top;\n",
       "    }\n",
       "\n",
       "    .dataframe thead th {\n",
       "        text-align: right;\n",
       "    }\n",
       "</style>\n",
       "<table border=\"1\" class=\"dataframe\">\n",
       "  <thead>\n",
       "    <tr style=\"text-align: right;\">\n",
       "      <th></th>\n",
       "      <th>Date</th>\n",
       "      <th>Day</th>\n",
       "      <th>Month</th>\n",
       "      <th>Year</th>\n",
       "      <th>Customer_Age</th>\n",
       "      <th>Age_Group</th>\n",
       "      <th>Customer_Gender</th>\n",
       "      <th>Country</th>\n",
       "      <th>State</th>\n",
       "      <th>Product_Category</th>\n",
       "      <th>Sub_Category</th>\n",
       "      <th>Product</th>\n",
       "      <th>Order_Quantity</th>\n",
       "      <th>Unit_Cost</th>\n",
       "      <th>Unit_Price</th>\n",
       "      <th>Profit</th>\n",
       "      <th>Cost</th>\n",
       "      <th>Revenue</th>\n",
       "      <th>Calculated_Date</th>\n",
       "    </tr>\n",
       "  </thead>\n",
       "  <tbody>\n",
       "    <tr>\n",
       "      <th>112073</th>\n",
       "      <td>2015-07-24</td>\n",
       "      <td>24</td>\n",
       "      <td>July</td>\n",
       "      <td>2015</td>\n",
       "      <td>52</td>\n",
       "      <td>Adults (35-64)</td>\n",
       "      <td>M</td>\n",
       "      <td>Australia</td>\n",
       "      <td>Queensland</td>\n",
       "      <td>Clothing</td>\n",
       "      <td>Vests</td>\n",
       "      <td>Touring-1000 Yellow, 50</td>\n",
       "      <td>29</td>\n",
       "      <td>1482</td>\n",
       "      <td>2384</td>\n",
       "      <td>15096</td>\n",
       "      <td>42978</td>\n",
       "      <td>58074</td>\n",
       "      <td>2015-07-24</td>\n",
       "    </tr>\n",
       "    <tr>\n",
       "      <th>112072</th>\n",
       "      <td>2013-07-24</td>\n",
       "      <td>24</td>\n",
       "      <td>July</td>\n",
       "      <td>2013</td>\n",
       "      <td>52</td>\n",
       "      <td>Adults (35-64)</td>\n",
       "      <td>M</td>\n",
       "      <td>Australia</td>\n",
       "      <td>Queensland</td>\n",
       "      <td>Clothing</td>\n",
       "      <td>Vests</td>\n",
       "      <td>Touring-1000 Yellow, 50</td>\n",
       "      <td>27</td>\n",
       "      <td>1482</td>\n",
       "      <td>2384</td>\n",
       "      <td>14055</td>\n",
       "      <td>40014</td>\n",
       "      <td>54069</td>\n",
       "      <td>2013-07-24</td>\n",
       "    </tr>\n",
       "    <tr>\n",
       "      <th>71129</th>\n",
       "      <td>2011-07-08</td>\n",
       "      <td>8</td>\n",
       "      <td>July</td>\n",
       "      <td>2011</td>\n",
       "      <td>22</td>\n",
       "      <td>Youth (&lt;25)</td>\n",
       "      <td>M</td>\n",
       "      <td>Canada</td>\n",
       "      <td>Alberta</td>\n",
       "      <td>Bikes</td>\n",
       "      <td>Road Bikes</td>\n",
       "      <td>Road-150 Red, 48</td>\n",
       "      <td>4</td>\n",
       "      <td>2171</td>\n",
       "      <td>3578</td>\n",
       "      <td>5628</td>\n",
       "      <td>8684</td>\n",
       "      <td>14312</td>\n",
       "      <td>2011-07-08</td>\n",
       "    </tr>\n",
       "    <tr>\n",
       "      <th>70307</th>\n",
       "      <td>2011-04-30</td>\n",
       "      <td>30</td>\n",
       "      <td>April</td>\n",
       "      <td>2011</td>\n",
       "      <td>44</td>\n",
       "      <td>Adults (35-64)</td>\n",
       "      <td>M</td>\n",
       "      <td>Canada</td>\n",
       "      <td>British Columbia</td>\n",
       "      <td>Bikes</td>\n",
       "      <td>Road Bikes</td>\n",
       "      <td>Road-150 Red, 62</td>\n",
       "      <td>4</td>\n",
       "      <td>2171</td>\n",
       "      <td>3578</td>\n",
       "      <td>5485</td>\n",
       "      <td>8684</td>\n",
       "      <td>14169</td>\n",
       "      <td>2011-04-30</td>\n",
       "    </tr>\n",
       "    <tr>\n",
       "      <th>70601</th>\n",
       "      <td>2011-09-30</td>\n",
       "      <td>30</td>\n",
       "      <td>September</td>\n",
       "      <td>2011</td>\n",
       "      <td>19</td>\n",
       "      <td>Youth (&lt;25)</td>\n",
       "      <td>F</td>\n",
       "      <td>Canada</td>\n",
       "      <td>British Columbia</td>\n",
       "      <td>Bikes</td>\n",
       "      <td>Road Bikes</td>\n",
       "      <td>Road-150 Red, 62</td>\n",
       "      <td>4</td>\n",
       "      <td>2171</td>\n",
       "      <td>3578</td>\n",
       "      <td>5485</td>\n",
       "      <td>8684</td>\n",
       "      <td>14169</td>\n",
       "      <td>2011-09-30</td>\n",
       "    </tr>\n",
       "  </tbody>\n",
       "</table>\n",
       "</div>"
      ],
      "text/plain": [
       "             Date  Day      Month  Year  Customer_Age       Age_Group  \\\n",
       "112073 2015-07-24   24       July  2015            52  Adults (35-64)   \n",
       "112072 2013-07-24   24       July  2013            52  Adults (35-64)   \n",
       "71129  2011-07-08    8       July  2011            22     Youth (<25)   \n",
       "70307  2011-04-30   30      April  2011            44  Adults (35-64)   \n",
       "70601  2011-09-30   30  September  2011            19     Youth (<25)   \n",
       "\n",
       "       Customer_Gender    Country             State Product_Category  \\\n",
       "112073               M  Australia        Queensland         Clothing   \n",
       "112072               M  Australia        Queensland         Clothing   \n",
       "71129                M     Canada           Alberta            Bikes   \n",
       "70307                M     Canada  British Columbia            Bikes   \n",
       "70601                F     Canada  British Columbia            Bikes   \n",
       "\n",
       "       Sub_Category                  Product  Order_Quantity  Unit_Cost  \\\n",
       "112073        Vests  Touring-1000 Yellow, 50              29       1482   \n",
       "112072        Vests  Touring-1000 Yellow, 50              27       1482   \n",
       "71129    Road Bikes         Road-150 Red, 48               4       2171   \n",
       "70307    Road Bikes         Road-150 Red, 62               4       2171   \n",
       "70601    Road Bikes         Road-150 Red, 62               4       2171   \n",
       "\n",
       "        Unit_Price  Profit   Cost  Revenue Calculated_Date  \n",
       "112073        2384   15096  42978    58074      2015-07-24  \n",
       "112072        2384   14055  40014    54069      2013-07-24  \n",
       "71129         3578    5628   8684    14312      2011-07-08  \n",
       "70307         3578    5485   8684    14169      2011-04-30  \n",
       "70601         3578    5485   8684    14169      2011-09-30  "
      ]
     },
     "execution_count": 54,
     "metadata": {},
     "output_type": "execute_result"
    }
   ],
   "source": [
    "Sales.sort_values(['Revenue'],ascending=False).head(5)"
   ]
  },
  {
   "cell_type": "markdown",
   "metadata": {
    "papermill": {
     "duration": 0.145504,
     "end_time": "2020-09-23T12:23:37.401769",
     "exception": false,
     "start_time": "2020-09-23T12:23:37.256265",
     "status": "completed"
    },
    "tags": []
   },
   "source": [
    "### Get the sale with the highest revenue"
   ]
  },
  {
   "cell_type": "code",
   "execution_count": 55,
   "metadata": {
    "execution": {
     "iopub.execute_input": "2020-09-23T12:23:37.692849Z",
     "iopub.status.busy": "2020-09-23T12:23:37.691820Z",
     "iopub.status.idle": "2020-09-23T12:23:37.697766Z",
     "shell.execute_reply": "2020-09-23T12:23:37.697027Z"
    },
    "papermill": {
     "duration": 0.153674,
     "end_time": "2020-09-23T12:23:37.697890",
     "exception": false,
     "start_time": "2020-09-23T12:23:37.544216",
     "status": "completed"
    },
    "tags": []
   },
   "outputs": [
    {
     "data": {
      "text/plain": [
       "58074"
      ]
     },
     "execution_count": 55,
     "metadata": {},
     "output_type": "execute_result"
    }
   ],
   "source": [
    "# Sales.sort_values(['Revenue'],ascending=False).head(1)\n",
    "\n",
    "Sales['Revenue'].max()\n",
    "\n",
    "# Cond=Sales['Revenue']==Sales[\"Revenue\"].max()\n",
    "# Sales.loc[Cond]"
   ]
  },
  {
   "cell_type": "markdown",
   "metadata": {
    "papermill": {
     "duration": 0.142823,
     "end_time": "2020-09-23T12:23:37.987155",
     "exception": false,
     "start_time": "2020-09-23T12:23:37.844332",
     "status": "completed"
    },
    "tags": []
   },
   "source": [
    "### What is the mean Order_Quantity of orders with more than 10K in revenue?"
   ]
  },
  {
   "cell_type": "code",
   "execution_count": 56,
   "metadata": {
    "execution": {
     "iopub.execute_input": "2020-09-23T12:23:38.287026Z",
     "iopub.status.busy": "2020-09-23T12:23:38.286090Z",
     "iopub.status.idle": "2020-09-23T12:23:38.291007Z",
     "shell.execute_reply": "2020-09-23T12:23:38.290238Z"
    },
    "papermill": {
     "duration": 0.158245,
     "end_time": "2020-09-23T12:23:38.291132",
     "exception": false,
     "start_time": "2020-09-23T12:23:38.132887",
     "status": "completed"
    },
    "scrolled": false,
    "tags": []
   },
   "outputs": [
    {
     "data": {
      "text/plain": [
       "3.7218934911242605"
      ]
     },
     "execution_count": 56,
     "metadata": {},
     "output_type": "execute_result"
    }
   ],
   "source": [
    "\n",
    "Sales.loc[Sales[\"Revenue\"]>10_000 , \"Order_Quantity\"].mean()\n",
    "\n",
    "# cond = Sales['Revenue'] > 10_000\n",
    "# Sales.loc[cond, 'Order_Quantity'].mean()\n"
   ]
  },
  {
   "cell_type": "markdown",
   "metadata": {
    "papermill": {
     "duration": 0.142467,
     "end_time": "2020-09-23T12:23:38.577626",
     "exception": false,
     "start_time": "2020-09-23T12:23:38.435159",
     "status": "completed"
    },
    "tags": []
   },
   "source": [
    "### What is the mean Order_Quantity of orders with less than 10K in revenue?"
   ]
  },
  {
   "cell_type": "code",
   "execution_count": 57,
   "metadata": {
    "execution": {
     "iopub.execute_input": "2020-09-23T12:23:38.872255Z",
     "iopub.status.busy": "2020-09-23T12:23:38.871446Z",
     "iopub.status.idle": "2020-09-23T12:23:38.878590Z",
     "shell.execute_reply": "2020-09-23T12:23:38.877823Z"
    },
    "papermill": {
     "duration": 0.158586,
     "end_time": "2020-09-23T12:23:38.878720",
     "exception": false,
     "start_time": "2020-09-23T12:23:38.720134",
     "status": "completed"
    },
    "tags": []
   },
   "outputs": [
    {
     "data": {
      "text/plain": [
       "11.913907519469818"
      ]
     },
     "execution_count": 57,
     "metadata": {},
     "output_type": "execute_result"
    }
   ],
   "source": [
    "Sales.loc[Sales[\"Revenue\"]<10_000,\"Order_Quantity\"].mean()"
   ]
  },
  {
   "cell_type": "markdown",
   "metadata": {
    "papermill": {
     "duration": 0.145335,
     "end_time": "2020-09-23T12:23:39.171877",
     "exception": false,
     "start_time": "2020-09-23T12:23:39.026542",
     "status": "completed"
    },
    "tags": []
   },
   "source": [
    "### How many orders were made in May of 2016?"
   ]
  },
  {
   "cell_type": "code",
   "execution_count": 58,
   "metadata": {
    "execution": {
     "iopub.execute_input": "2020-09-23T12:23:39.486369Z",
     "iopub.status.busy": "2020-09-23T12:23:39.467008Z",
     "iopub.status.idle": "2020-09-23T12:23:39.497004Z",
     "shell.execute_reply": "2020-09-23T12:23:39.496219Z"
    },
    "papermill": {
     "duration": 0.179112,
     "end_time": "2020-09-23T12:23:39.497132",
     "exception": false,
     "start_time": "2020-09-23T12:23:39.318020",
     "status": "completed"
    },
    "tags": []
   },
   "outputs": [
    {
     "data": {
      "text/plain": [
       "5015"
      ]
     },
     "execution_count": 58,
     "metadata": {},
     "output_type": "execute_result"
    }
   ],
   "source": [
    "Sales.loc[(Sales[\"Year\"]==2016) & (Sales[\"Month\"]=='May')].shape[0]"
   ]
  },
  {
   "cell_type": "markdown",
   "metadata": {
    "papermill": {
     "duration": 0.145641,
     "end_time": "2020-09-23T12:23:39.786973",
     "exception": false,
     "start_time": "2020-09-23T12:23:39.641332",
     "status": "completed"
    },
    "tags": []
   },
   "source": [
    "### How many orders were made in May,June,July of 2016?"
   ]
  },
  {
   "cell_type": "code",
   "execution_count": 59,
   "metadata": {
    "execution": {
     "iopub.execute_input": "2020-09-23T12:23:40.095224Z",
     "iopub.status.busy": "2020-09-23T12:23:40.094418Z",
     "iopub.status.idle": "2020-09-23T12:23:40.105592Z",
     "shell.execute_reply": "2020-09-23T12:23:40.104808Z"
    },
    "papermill": {
     "duration": 0.173989,
     "end_time": "2020-09-23T12:23:40.105721",
     "exception": false,
     "start_time": "2020-09-23T12:23:39.931732",
     "status": "completed"
    },
    "tags": []
   },
   "outputs": [
    {
     "data": {
      "text/plain": [
       "12164"
      ]
     },
     "execution_count": 59,
     "metadata": {},
     "output_type": "execute_result"
    }
   ],
   "source": [
    "Sales.loc[(Sales['Year'] == 2016) & (Sales['Month'].isin(['May', 'June', 'July']))].shape[0]"
   ]
  },
  {
   "cell_type": "code",
   "execution_count": 60,
   "metadata": {
    "execution": {
     "iopub.execute_input": "2020-09-23T12:23:40.407315Z",
     "iopub.status.busy": "2020-09-23T12:23:40.406553Z",
     "iopub.status.idle": "2020-09-23T12:23:40.676322Z",
     "shell.execute_reply": "2020-09-23T12:23:40.675624Z"
    },
    "papermill": {
     "duration": 0.423124,
     "end_time": "2020-09-23T12:23:40.676457",
     "exception": false,
     "start_time": "2020-09-23T12:23:40.253333",
     "status": "completed"
    },
    "tags": []
   },
   "outputs": [
    {
     "data": {
      "text/plain": [
       "<matplotlib.axes._subplots.AxesSubplot at 0x7f2ae0278590>"
      ]
     },
     "execution_count": 60,
     "metadata": {},
     "output_type": "execute_result"
    },
    {
     "data": {
      "image/png": "[encoded data removed]",
      "text/plain": [
       "<Figure size 1008x432 with 1 Axes>"
      ]
     },
     "metadata": {
      "needs_background": "light"
     },
     "output_type": "display_data"
    }
   ],
   "source": [
    "Saels2016=Sales.loc[Sales[\"Year\"]==2016 , ['Profit',\"Month\"]]\n",
    "Saels2016.boxplot(by=\"Month\", figsize=(14,6))"
   ]
  },
  {
   "cell_type": "markdown",
   "metadata": {
    "papermill": {
     "duration": 0.147606,
     "end_time": "2020-09-23T12:23:40.975078",
     "exception": false,
     "start_time": "2020-09-23T12:23:40.827472",
     "status": "completed"
    },
    "tags": []
   },
   "source": [
    "### 10% tax on Sales in USA"
   ]
  },
  {
   "cell_type": "code",
   "execution_count": 61,
   "metadata": {
    "execution": {
     "iopub.execute_input": "2020-09-23T12:23:41.303521Z",
     "iopub.status.busy": "2020-09-23T12:23:41.301179Z",
     "iopub.status.idle": "2020-09-23T12:23:41.312092Z",
     "shell.execute_reply": "2020-09-23T12:23:41.311461Z"
    },
    "papermill": {
     "duration": 0.184967,
     "end_time": "2020-09-23T12:23:41.312229",
     "exception": false,
     "start_time": "2020-09-23T12:23:41.127262",
     "status": "completed"
    },
    "tags": []
   },
   "outputs": [],
   "source": [
    "Sales.loc[Sales[\"Country\"]==\"United State\",'Unit_Price']*=1.072"
   ]
  },
  {
   "cell_type": "code",
   "execution_count": 62,
   "metadata": {
    "execution": {
     "iopub.execute_input": "2020-09-23T12:23:41.613443Z",
     "iopub.status.busy": "2020-09-23T12:23:41.612404Z",
     "iopub.status.idle": "2020-09-23T12:23:41.617539Z",
     "shell.execute_reply": "2020-09-23T12:23:41.616742Z"
    },
    "papermill": {
     "duration": 0.158559,
     "end_time": "2020-09-23T12:23:41.617675",
     "exception": false,
     "start_time": "2020-09-23T12:23:41.459116",
     "status": "completed"
    },
    "tags": []
   },
   "outputs": [
    {
     "data": {
      "text/plain": [
       "0    120.0\n",
       "1    120.0\n",
       "Name: Unit_Price, dtype: float64"
      ]
     },
     "execution_count": 62,
     "metadata": {},
     "output_type": "execute_result"
    }
   ],
   "source": [
    "Sales[\"Unit_Price\"].head(2)"
   ]
  },
  {
   "cell_type": "markdown",
   "metadata": {
    "papermill": {
     "duration": 0.147837,
     "end_time": "2020-09-23T12:23:41.912312",
     "exception": false,
     "start_time": "2020-09-23T12:23:41.764475",
     "status": "completed"
    },
    "tags": []
   },
   "source": [
    "### Customer Revenue  according to age"
   ]
  },
  {
   "cell_type": "code",
   "execution_count": 63,
   "metadata": {
    "execution": {
     "iopub.execute_input": "2020-09-23T12:23:42.220155Z",
     "iopub.status.busy": "2020-09-23T12:23:42.218778Z",
     "iopub.status.idle": "2020-09-23T12:23:42.752031Z",
     "shell.execute_reply": "2020-09-23T12:23:42.751262Z"
    },
    "papermill": {
     "duration": 0.690803,
     "end_time": "2020-09-23T12:23:42.752175",
     "exception": false,
     "start_time": "2020-09-23T12:23:42.061372",
     "status": "completed"
    },
    "tags": []
   },
   "outputs": [
    {
     "data": {
      "text/plain": [
       "<Figure size 1152x576 with 0 Axes>"
      ]
     },
     "metadata": {},
     "output_type": "display_data"
    },
    {
     "data": {
      "image/png": "[encoded data removed]",
      "text/plain": [
       "<Figure size 720x576 with 1 Axes>"
      ]
     },
     "metadata": {
      "needs_background": "light"
     },
     "output_type": "display_data"
    }
   ],
   "source": [
    "plt.figure(figsize=(16,8))\n",
    "Sales.plot(kind=\"scatter\",x=\"Customer_Age\",y=\"Revenue\",figsize=(10,8),fontsize=12)\n",
    "plt.xlabel(\"Customer Age\",fontsize=13)\n",
    "plt.ylabel(\"Revenue\",fontsize=13)\n",
    "plt.show()"
   ]
  },
  {
   "cell_type": "markdown",
   "metadata": {
    "papermill": {
     "duration": 0.156446,
     "end_time": "2020-09-23T12:23:43.061952",
     "exception": false,
     "start_time": "2020-09-23T12:23:42.905506",
     "status": "completed"
    },
    "tags": []
   },
   "source": [
    "### Customer Revenue with profit"
   ]
  },
  {
   "cell_type": "code",
   "execution_count": 64,
   "metadata": {
    "execution": {
     "iopub.execute_input": "2020-09-23T12:23:43.377080Z",
     "iopub.status.busy": "2020-09-23T12:23:43.375507Z",
     "iopub.status.idle": "2020-09-23T12:23:43.851589Z",
     "shell.execute_reply": "2020-09-23T12:23:43.850945Z"
    },
    "papermill": {
     "duration": 0.638123,
     "end_time": "2020-09-23T12:23:43.851713",
     "exception": false,
     "start_time": "2020-09-23T12:23:43.213590",
     "status": "completed"
    },
    "tags": []
   },
   "outputs": [
    {
     "data": {
      "text/plain": [
       "Text(0, 0.5, 'Profit')"
      ]
     },
     "execution_count": 64,
     "metadata": {},
     "output_type": "execute_result"
    },
    {
     "data": {
      "image/png": "[encoded data removed]",
      "text/plain": [
       "<Figure size 720x576 with 1 Axes>"
      ]
     },
     "metadata": {
      "needs_background": "light"
     },
     "output_type": "display_data"
    }
   ],
   "source": [
    "Sales.plot(kind='scatter', x='Revenue', y='Profit', figsize=(10,8),fontsize=12)\n",
    "plt.xlabel(\"Revenue\",fontsize=13)\n",
    "plt.ylabel(\"Profit\",fontsize=13)"
   ]
  },
  {
   "cell_type": "markdown",
   "metadata": {
    "papermill": {
     "duration": 0.150231,
     "end_time": "2020-09-23T12:23:44.155207",
     "exception": false,
     "start_time": "2020-09-23T12:23:44.004976",
     "status": "completed"
    },
    "tags": []
   },
   "source": [
    "### Add and calculate a new Revenue_per_Age column"
   ]
  },
  {
   "cell_type": "code",
   "execution_count": 65,
   "metadata": {
    "execution": {
     "iopub.execute_input": "2020-09-23T12:23:44.468476Z",
     "iopub.status.busy": "2020-09-23T12:23:44.467671Z",
     "iopub.status.idle": "2020-09-23T12:23:44.472777Z",
     "shell.execute_reply": "2020-09-23T12:23:44.472046Z"
    },
    "papermill": {
     "duration": 0.16415,
     "end_time": "2020-09-23T12:23:44.472928",
     "exception": false,
     "start_time": "2020-09-23T12:23:44.308778",
     "status": "completed"
    },
    "tags": []
   },
   "outputs": [],
   "source": [
    "Sales[\"Revenu_Per_Age\"] = Sales[\"Revenue\"]/Sales['Customer_Age']"
   ]
  },
  {
   "cell_type": "code",
   "execution_count": 66,
   "metadata": {
    "execution": {
     "iopub.execute_input": "2020-09-23T12:23:44.797672Z",
     "iopub.status.busy": "2020-09-23T12:23:44.796817Z",
     "iopub.status.idle": "2020-09-23T12:23:47.695007Z",
     "shell.execute_reply": "2020-09-23T12:23:47.694214Z"
    },
    "papermill": {
     "duration": 3.061841,
     "end_time": "2020-09-23T12:23:47.695138",
     "exception": false,
     "start_time": "2020-09-23T12:23:44.633297",
     "status": "completed"
    },
    "tags": []
   },
   "outputs": [
    {
     "data": {
      "text/plain": [
       "<matplotlib.legend.Legend at 0x7f2ae00b00d0>"
      ]
     },
     "execution_count": 66,
     "metadata": {},
     "output_type": "execute_result"
    },
    {
     "data": {
      "image/png": "[encoded data removed]",
      "text/plain": [
       "<Figure size 1008x432 with 1 Axes>"
      ]
     },
     "metadata": {
      "needs_background": "light"
     },
     "output_type": "display_data"
    }
   ],
   "source": [
    "Sales['Revenu_Per_Age'].plot(kind='density', figsize=(14,6))\n",
    "plt.title(\"Revenue Per Age\",fontsize=15)\n",
    "\n",
    "\n",
    "plt.legend()"
   ]
  },
  {
   "cell_type": "code",
   "execution_count": 67,
   "metadata": {
    "execution": {
     "iopub.execute_input": "2020-09-23T12:23:48.012577Z",
     "iopub.status.busy": "2020-09-23T12:23:48.011471Z",
     "iopub.status.idle": "2020-09-23T12:23:48.253993Z",
     "shell.execute_reply": "2020-09-23T12:23:48.253353Z"
    },
    "papermill": {
     "duration": 0.403674,
     "end_time": "2020-09-23T12:23:48.254137",
     "exception": false,
     "start_time": "2020-09-23T12:23:47.850463",
     "status": "completed"
    },
    "tags": []
   },
   "outputs": [
    {
     "data": {
      "text/plain": [
       "<matplotlib.legend.Legend at 0x7f2ada746fd0>"
      ]
     },
     "execution_count": 67,
     "metadata": {},
     "output_type": "execute_result"
    },
    {
     "data": {
      "image/png": "[encoded data removed]",
      "text/plain": [
       "<Figure size 1008x432 with 1 Axes>"
      ]
     },
     "metadata": {
      "needs_background": "light"
     },
     "output_type": "display_data"
    }
   ],
   "source": [
    "Sales['Revenu_Per_Age'].plot(kind='hist', figsize=(14,6))\n",
    "plt.title(\"Revenue Per Age\",fontsize=15)\n",
    "plt.legend()"
   ]
  },
  {
   "cell_type": "markdown",
   "metadata": {
    "papermill": {
     "duration": 0.155244,
     "end_time": "2020-09-23T12:23:48.568488",
     "exception": false,
     "start_time": "2020-09-23T12:23:48.413244",
     "status": "completed"
    },
    "tags": []
   },
   "source": [
    "> ### Add and calculate a new Calculated_Cost column\n",
    "\n",
    "**formula**:\n",
    "#### **Calculated_Cost=Order_Quantity ∗ Unit_Cost**\n",
    "\n",
    "          "
   ]
  },
  {
   "cell_type": "code",
   "execution_count": 68,
   "metadata": {
    "execution": {
     "iopub.execute_input": "2020-09-23T12:23:48.893061Z",
     "iopub.status.busy": "2020-09-23T12:23:48.891983Z",
     "iopub.status.idle": "2020-09-23T12:23:48.896643Z",
     "shell.execute_reply": "2020-09-23T12:23:48.895891Z"
    },
    "papermill": {
     "duration": 0.173507,
     "end_time": "2020-09-23T12:23:48.896767",
     "exception": false,
     "start_time": "2020-09-23T12:23:48.723260",
     "status": "completed"
    },
    "tags": []
   },
   "outputs": [],
   "source": [
    "Sales['Calculated_Cost'] = Sales['Order_Quantity'] * Sales['Unit_Cost']"
   ]
  },
  {
   "cell_type": "markdown",
   "metadata": {
    "papermill": {
     "duration": 0.169242,
     "end_time": "2020-09-23T12:23:49.231967",
     "exception": false,
     "start_time": "2020-09-23T12:23:49.062725",
     "status": "completed"
    },
    "tags": []
   },
   "source": [
    "> ### Add and calculate a new Calculated_Revenue column"
   ]
  },
  {
   "cell_type": "markdown",
   "metadata": {
    "papermill": {
     "duration": 0.165983,
     "end_time": "2020-09-23T12:23:49.563938",
     "exception": false,
     "start_time": "2020-09-23T12:23:49.397955",
     "status": "completed"
    },
    "tags": []
   },
   "source": [
    "#### Formula :  Calculated_Revenue=Cost+Profit"
   ]
  },
  {
   "cell_type": "code",
   "execution_count": 69,
   "metadata": {
    "execution": {
     "iopub.execute_input": "2020-09-23T12:23:49.938324Z",
     "iopub.status.busy": "2020-09-23T12:23:49.937355Z",
     "iopub.status.idle": "2020-09-23T12:23:49.942734Z",
     "shell.execute_reply": "2020-09-23T12:23:49.942079Z"
    },
    "papermill": {
     "duration": 0.215993,
     "end_time": "2020-09-23T12:23:49.942870",
     "exception": false,
     "start_time": "2020-09-23T12:23:49.726877",
     "status": "completed"
    },
    "tags": []
   },
   "outputs": [],
   "source": [
    "Sales['Calculates_Revenue']= Sales[\"Cost\"] + Sales[\"Profit\"]"
   ]
  },
  {
   "cell_type": "code",
   "execution_count": 70,
   "metadata": {
    "execution": {
     "iopub.execute_input": "2020-09-23T12:23:50.286139Z",
     "iopub.status.busy": "2020-09-23T12:23:50.284785Z",
     "iopub.status.idle": "2020-09-23T12:23:50.886197Z",
     "shell.execute_reply": "2020-09-23T12:23:50.885383Z"
    },
    "papermill": {
     "duration": 0.778398,
     "end_time": "2020-09-23T12:23:50.886328",
     "exception": false,
     "start_time": "2020-09-23T12:23:50.107930",
     "status": "completed"
    },
    "tags": []
   },
   "outputs": [
    {
     "data": {
      "text/plain": [
       "<matplotlib.legend.Legend at 0x7f2ada53fd10>"
      ]
     },
     "execution_count": 70,
     "metadata": {},
     "output_type": "execute_result"
    },
    {
     "data": {
      "image/png": "[encoded data removed]",
      "text/plain": [
       "<Figure size 1008x432 with 1 Axes>"
      ]
     },
     "metadata": {
      "needs_background": "light"
     },
     "output_type": "display_data"
    }
   ],
   "source": [
    "Sales[\"Revenue\"].plot(kind=\"hist\" , bins=100 ,figsize=(14,6))\n",
    "plt.legend()"
   ]
  },
  {
   "cell_type": "markdown",
   "metadata": {
    "papermill": {
     "duration": 0.164512,
     "end_time": "2020-09-23T12:23:51.219830",
     "exception": false,
     "start_time": "2020-09-23T12:23:51.055318",
     "status": "completed"
    },
    "tags": []
   },
   "source": [
    "> ### Modify all Unit_Price values adding 3% tax to them"
   ]
  },
  {
   "cell_type": "code",
   "execution_count": 71,
   "metadata": {
    "execution": {
     "iopub.execute_input": "2020-09-23T12:23:51.560468Z",
     "iopub.status.busy": "2020-09-23T12:23:51.559591Z",
     "iopub.status.idle": "2020-09-23T12:23:51.563296Z",
     "shell.execute_reply": "2020-09-23T12:23:51.562569Z"
    },
    "papermill": {
     "duration": 0.174351,
     "end_time": "2020-09-23T12:23:51.563430",
     "exception": false,
     "start_time": "2020-09-23T12:23:51.389079",
     "status": "completed"
    },
    "tags": []
   },
   "outputs": [],
   "source": [
    "Tax = 1.03\n",
    "Unit_Price_Tax=Sales['Unit_Price']*Tax"
   ]
  },
  {
   "cell_type": "code",
   "execution_count": 72,
   "metadata": {
    "execution": {
     "iopub.execute_input": "2020-09-23T12:23:51.897248Z",
     "iopub.status.busy": "2020-09-23T12:23:51.896097Z",
     "iopub.status.idle": "2020-09-23T12:23:52.130265Z",
     "shell.execute_reply": "2020-09-23T12:23:52.129478Z"
    },
    "papermill": {
     "duration": 0.404845,
     "end_time": "2020-09-23T12:23:52.130399",
     "exception": false,
     "start_time": "2020-09-23T12:23:51.725554",
     "status": "completed"
    },
    "tags": []
   },
   "outputs": [
    {
     "data": {
      "text/plain": [
       "<matplotlib.legend.Legend at 0x7f2ae16f0710>"
      ]
     },
     "execution_count": 72,
     "metadata": {},
     "output_type": "execute_result"
    },
    {
     "data": {
      "image/png": "[encoded data removed]",
      "text/plain": [
       "<Figure size 864x288 with 1 Axes>"
      ]
     },
     "metadata": {
      "needs_background": "light"
     },
     "output_type": "display_data"
    }
   ],
   "source": [
    "Unit_Price_Tax.plot(kind=\"hist\",figsize=(12,4))\n",
    "plt.xlabel(\"Unit_Price\",fontsize=13)\n",
    "plt.ylabel(\"Sales\",fontsize=13)\n",
    "plt.legend()"
   ]
  },
  {
   "cell_type": "markdown",
   "metadata": {
    "papermill": {
     "duration": 0.208371,
     "end_time": "2020-09-23T12:23:52.502102",
     "exception": false,
     "start_time": "2020-09-23T12:23:52.293731",
     "status": "completed"
    },
    "tags": []
   },
   "source": [
    "> ### Get all the sales made in the state of _Kentucky_"
   ]
  },
  {
   "cell_type": "code",
   "execution_count": 73,
   "metadata": {
    "execution": {
     "iopub.execute_input": "2020-09-23T12:23:52.851873Z",
     "iopub.status.busy": "2020-09-23T12:23:52.851132Z",
     "iopub.status.idle": "2020-09-23T12:23:52.891490Z",
     "shell.execute_reply": "2020-09-23T12:23:52.890711Z"
    },
    "papermill": {
     "duration": 0.227788,
     "end_time": "2020-09-23T12:23:52.891622",
     "exception": false,
     "start_time": "2020-09-23T12:23:52.663834",
     "status": "completed"
    },
    "tags": []
   },
   "outputs": [
    {
     "data": {
      "text/html": [
       "<div>\n",
       "<style scoped>\n",
       "    .dataframe tbody tr th:only-of-type {\n",
       "        vertical-align: middle;\n",
       "    }\n",
       "\n",
       "    .dataframe tbody tr th {\n",
       "        vertical-align: top;\n",
       "    }\n",
       "\n",
       "    .dataframe thead th {\n",
       "        text-align: right;\n",
       "    }\n",
       "</style>\n",
       "<table border=\"1\" class=\"dataframe\">\n",
       "  <thead>\n",
       "    <tr style=\"text-align: right;\">\n",
       "      <th></th>\n",
       "      <th>Date</th>\n",
       "      <th>Day</th>\n",
       "      <th>Month</th>\n",
       "      <th>Year</th>\n",
       "      <th>Customer_Age</th>\n",
       "      <th>Age_Group</th>\n",
       "      <th>Customer_Gender</th>\n",
       "      <th>Country</th>\n",
       "      <th>State</th>\n",
       "      <th>Product_Category</th>\n",
       "      <th>...</th>\n",
       "      <th>Order_Quantity</th>\n",
       "      <th>Unit_Cost</th>\n",
       "      <th>Unit_Price</th>\n",
       "      <th>Profit</th>\n",
       "      <th>Cost</th>\n",
       "      <th>Revenue</th>\n",
       "      <th>Calculated_Date</th>\n",
       "      <th>Revenu_Per_Age</th>\n",
       "      <th>Calculated_Cost</th>\n",
       "      <th>Calculates_Revenue</th>\n",
       "    </tr>\n",
       "  </thead>\n",
       "  <tbody>\n",
       "    <tr>\n",
       "      <th>156</th>\n",
       "      <td>2013-11-04</td>\n",
       "      <td>4</td>\n",
       "      <td>November</td>\n",
       "      <td>2013</td>\n",
       "      <td>40</td>\n",
       "      <td>Adults (35-64)</td>\n",
       "      <td>M</td>\n",
       "      <td>United States</td>\n",
       "      <td>Kentucky</td>\n",
       "      <td>Accessories</td>\n",
       "      <td>...</td>\n",
       "      <td>1</td>\n",
       "      <td>45</td>\n",
       "      <td>120.0</td>\n",
       "      <td>63</td>\n",
       "      <td>45</td>\n",
       "      <td>108</td>\n",
       "      <td>2013-11-04</td>\n",
       "      <td>2.700</td>\n",
       "      <td>45</td>\n",
       "      <td>108</td>\n",
       "    </tr>\n",
       "    <tr>\n",
       "      <th>157</th>\n",
       "      <td>2015-11-04</td>\n",
       "      <td>4</td>\n",
       "      <td>November</td>\n",
       "      <td>2015</td>\n",
       "      <td>40</td>\n",
       "      <td>Adults (35-64)</td>\n",
       "      <td>M</td>\n",
       "      <td>United States</td>\n",
       "      <td>Kentucky</td>\n",
       "      <td>Accessories</td>\n",
       "      <td>...</td>\n",
       "      <td>1</td>\n",
       "      <td>45</td>\n",
       "      <td>120.0</td>\n",
       "      <td>63</td>\n",
       "      <td>45</td>\n",
       "      <td>108</td>\n",
       "      <td>2015-11-04</td>\n",
       "      <td>2.700</td>\n",
       "      <td>45</td>\n",
       "      <td>108</td>\n",
       "    </tr>\n",
       "    <tr>\n",
       "      <th>23826</th>\n",
       "      <td>2014-04-16</td>\n",
       "      <td>16</td>\n",
       "      <td>April</td>\n",
       "      <td>2014</td>\n",
       "      <td>40</td>\n",
       "      <td>Adults (35-64)</td>\n",
       "      <td>M</td>\n",
       "      <td>United States</td>\n",
       "      <td>Kentucky</td>\n",
       "      <td>Accessories</td>\n",
       "      <td>...</td>\n",
       "      <td>12</td>\n",
       "      <td>8</td>\n",
       "      <td>22.0</td>\n",
       "      <td>142</td>\n",
       "      <td>96</td>\n",
       "      <td>238</td>\n",
       "      <td>2014-04-16</td>\n",
       "      <td>5.950</td>\n",
       "      <td>96</td>\n",
       "      <td>238</td>\n",
       "    </tr>\n",
       "    <tr>\n",
       "      <th>23827</th>\n",
       "      <td>2016-04-16</td>\n",
       "      <td>16</td>\n",
       "      <td>April</td>\n",
       "      <td>2016</td>\n",
       "      <td>40</td>\n",
       "      <td>Adults (35-64)</td>\n",
       "      <td>M</td>\n",
       "      <td>United States</td>\n",
       "      <td>Kentucky</td>\n",
       "      <td>Accessories</td>\n",
       "      <td>...</td>\n",
       "      <td>14</td>\n",
       "      <td>8</td>\n",
       "      <td>22.0</td>\n",
       "      <td>165</td>\n",
       "      <td>112</td>\n",
       "      <td>277</td>\n",
       "      <td>2016-04-16</td>\n",
       "      <td>6.925</td>\n",
       "      <td>112</td>\n",
       "      <td>277</td>\n",
       "    </tr>\n",
       "    <tr>\n",
       "      <th>31446</th>\n",
       "      <td>2014-04-16</td>\n",
       "      <td>16</td>\n",
       "      <td>April</td>\n",
       "      <td>2014</td>\n",
       "      <td>40</td>\n",
       "      <td>Adults (35-64)</td>\n",
       "      <td>M</td>\n",
       "      <td>United States</td>\n",
       "      <td>Kentucky</td>\n",
       "      <td>Accessories</td>\n",
       "      <td>...</td>\n",
       "      <td>29</td>\n",
       "      <td>13</td>\n",
       "      <td>35.0</td>\n",
       "      <td>537</td>\n",
       "      <td>377</td>\n",
       "      <td>914</td>\n",
       "      <td>2014-04-16</td>\n",
       "      <td>22.850</td>\n",
       "      <td>377</td>\n",
       "      <td>914</td>\n",
       "    </tr>\n",
       "  </tbody>\n",
       "</table>\n",
       "<p>5 rows × 22 columns</p>\n",
       "</div>"
      ],
      "text/plain": [
       "            Date  Day     Month  Year  Customer_Age       Age_Group  \\\n",
       "156   2013-11-04    4  November  2013            40  Adults (35-64)   \n",
       "157   2015-11-04    4  November  2015            40  Adults (35-64)   \n",
       "23826 2014-04-16   16     April  2014            40  Adults (35-64)   \n",
       "23827 2016-04-16   16     April  2016            40  Adults (35-64)   \n",
       "31446 2014-04-16   16     April  2014            40  Adults (35-64)   \n",
       "\n",
       "      Customer_Gender        Country     State Product_Category  ...  \\\n",
       "156                 M  United States  Kentucky      Accessories  ...   \n",
       "157                 M  United States  Kentucky      Accessories  ...   \n",
       "23826               M  United States  Kentucky      Accessories  ...   \n",
       "23827               M  United States  Kentucky      Accessories  ...   \n",
       "31446               M  United States  Kentucky      Accessories  ...   \n",
       "\n",
       "      Order_Quantity Unit_Cost  Unit_Price  Profit  Cost  Revenue  \\\n",
       "156                1        45       120.0      63    45      108   \n",
       "157                1        45       120.0      63    45      108   \n",
       "23826             12         8        22.0     142    96      238   \n",
       "23827             14         8        22.0     165   112      277   \n",
       "31446             29        13        35.0     537   377      914   \n",
       "\n",
       "       Calculated_Date  Revenu_Per_Age Calculated_Cost  Calculates_Revenue  \n",
       "156         2013-11-04           2.700              45                 108  \n",
       "157         2015-11-04           2.700              45                 108  \n",
       "23826       2014-04-16           5.950              96                 238  \n",
       "23827       2016-04-16           6.925             112                 277  \n",
       "31446       2014-04-16          22.850             377                 914  \n",
       "\n",
       "[5 rows x 22 columns]"
      ]
     },
     "execution_count": 73,
     "metadata": {},
     "output_type": "execute_result"
    }
   ],
   "source": [
    "\n",
    "Sales.loc[Sales[\"State\"]=='Kentucky'].head()"
   ]
  },
  {
   "cell_type": "markdown",
   "metadata": {
    "papermill": {
     "duration": 0.161551,
     "end_time": "2020-09-23T12:23:53.216227",
     "exception": false,
     "start_time": "2020-09-23T12:23:53.054676",
     "status": "completed"
    },
    "tags": []
   },
   "source": [
    "> ### Get the mean revenue of the Adults (35-64) sales group"
   ]
  },
  {
   "cell_type": "code",
   "execution_count": 74,
   "metadata": {
    "execution": {
     "iopub.execute_input": "2020-09-23T12:23:53.607479Z",
     "iopub.status.busy": "2020-09-23T12:23:53.606408Z",
     "iopub.status.idle": "2020-09-23T12:23:53.613254Z",
     "shell.execute_reply": "2020-09-23T12:23:53.612418Z"
    },
    "papermill": {
     "duration": 0.206045,
     "end_time": "2020-09-23T12:23:53.613390",
     "exception": false,
     "start_time": "2020-09-23T12:23:53.407345",
     "status": "completed"
    },
    "tags": []
   },
   "outputs": [
    {
     "data": {
      "text/plain": [
       "762.8287654055604"
      ]
     },
     "execution_count": 74,
     "metadata": {},
     "output_type": "execute_result"
    }
   ],
   "source": [
    "Sales.loc[Sales['Age_Group'] == 'Adults (35-64)', 'Revenue'].mean()"
   ]
  },
  {
   "cell_type": "code",
   "execution_count": 75,
   "metadata": {
    "execution": {
     "iopub.execute_input": "2020-09-23T12:23:53.985710Z",
     "iopub.status.busy": "2020-09-23T12:23:53.964453Z",
     "iopub.status.idle": "2020-09-23T12:23:54.008321Z",
     "shell.execute_reply": "2020-09-23T12:23:54.007645Z"
    },
    "papermill": {
     "duration": 0.230396,
     "end_time": "2020-09-23T12:23:54.008453",
     "exception": false,
     "start_time": "2020-09-23T12:23:53.778057",
     "status": "completed"
    },
    "tags": []
   },
   "outputs": [
    {
     "data": {
      "text/plain": [
       "73652"
      ]
     },
     "execution_count": 75,
     "metadata": {},
     "output_type": "execute_result"
    }
   ],
   "source": [
    "Sales.loc[(Sales['Age_Group'] == 'Youth (<25)') | (Sales['Age_Group'] == 'Adults (35-64)')].shape[0]"
   ]
  },
  {
   "cell_type": "markdown",
   "metadata": {
    "papermill": {
     "duration": 0.165618,
     "end_time": "2020-09-23T12:23:54.337168",
     "exception": false,
     "start_time": "2020-09-23T12:23:54.171550",
     "status": "completed"
    },
    "tags": []
   },
   "source": [
    "> ### Get the mean revenue of the sales group Adults (35-64) in United States"
   ]
  },
  {
   "cell_type": "code",
   "execution_count": 76,
   "metadata": {
    "execution": {
     "iopub.execute_input": "2020-09-23T12:23:54.713531Z",
     "iopub.status.busy": "2020-09-23T12:23:54.712707Z",
     "iopub.status.idle": "2020-09-23T12:23:54.719744Z",
     "shell.execute_reply": "2020-09-23T12:23:54.719134Z"
    },
    "papermill": {
     "duration": 0.21995,
     "end_time": "2020-09-23T12:23:54.719873",
     "exception": false,
     "start_time": "2020-09-23T12:23:54.499923",
     "status": "completed"
    },
    "tags": []
   },
   "outputs": [
    {
     "data": {
      "text/plain": [
       "726.7260473588342"
      ]
     },
     "execution_count": 76,
     "metadata": {},
     "output_type": "execute_result"
    }
   ],
   "source": [
    "Sales.loc[(Sales['Age_Group'] == 'Adults (35-64)') & (Sales['Country'] == 'United States'), 'Revenue'].mean()"
   ]
  },
  {
   "cell_type": "markdown",
   "metadata": {
    "papermill": {
     "duration": 0.173812,
     "end_time": "2020-09-23T12:23:55.066775",
     "exception": false,
     "start_time": "2020-09-23T12:23:54.892963",
     "status": "completed"
    },
    "tags": []
   },
   "source": [
    "> ### Increase the revenue by 10% to every sale made in France"
   ]
  },
  {
   "cell_type": "code",
   "execution_count": 77,
   "metadata": {
    "execution": {
     "iopub.execute_input": "2020-09-23T12:23:55.446078Z",
     "iopub.status.busy": "2020-09-23T12:23:55.444926Z",
     "iopub.status.idle": "2020-09-23T12:23:55.453366Z",
     "shell.execute_reply": "2020-09-23T12:23:55.452479Z"
    },
    "papermill": {
     "duration": 0.219723,
     "end_time": "2020-09-23T12:23:55.453558",
     "exception": false,
     "start_time": "2020-09-23T12:23:55.233835",
     "status": "completed"
    },
    "tags": []
   },
   "outputs": [],
   "source": [
    "Revenue_France=Sales.loc[Sales['Country']==\"France\",'Revenue']\n",
    "Revenue_France*=1.1"
   ]
  },
  {
   "cell_type": "code",
   "execution_count": 78,
   "metadata": {
    "execution": {
     "iopub.execute_input": "2020-09-23T12:23:55.789400Z",
     "iopub.status.busy": "2020-09-23T12:23:55.788170Z",
     "iopub.status.idle": "2020-09-23T12:23:55.794074Z",
     "shell.execute_reply": "2020-09-23T12:23:55.793215Z"
    },
    "papermill": {
     "duration": 0.174034,
     "end_time": "2020-09-23T12:23:55.794222",
     "exception": false,
     "start_time": "2020-09-23T12:23:55.620188",
     "status": "completed"
    },
    "scrolled": true,
    "tags": []
   },
   "outputs": [
    {
     "data": {
      "text/plain": [
       "50         865.7\n",
       "51         865.7\n",
       "52        3252.7\n",
       "53        3136.1\n",
       "60         688.6\n",
       "           ...  \n",
       "112979    1892.0\n",
       "113000     405.9\n",
       "113001     473.0\n",
       "113034    1386.0\n",
       "113035    1327.7\n",
       "Name: Revenue, Length: 10998, dtype: float64"
      ]
     },
     "execution_count": 78,
     "metadata": {},
     "output_type": "execute_result"
    }
   ],
   "source": [
    "Revenue_France"
   ]
  },
  {
   "cell_type": "markdown",
   "metadata": {
    "papermill": {
     "duration": 0.164251,
     "end_time": "2020-09-23T12:23:56.122193",
     "exception": false,
     "start_time": "2020-09-23T12:23:55.957942",
     "status": "completed"
    },
    "tags": []
   },
   "source": [
    "> ## Relationship between the columns"
   ]
  },
  {
   "cell_type": "code",
   "execution_count": 79,
   "metadata": {
    "execution": {
     "iopub.execute_input": "2020-09-23T12:23:56.459770Z",
     "iopub.status.busy": "2020-09-23T12:23:56.458954Z",
     "iopub.status.idle": "2020-09-23T12:23:56.534070Z",
     "shell.execute_reply": "2020-09-23T12:23:56.534631Z"
    },
    "papermill": {
     "duration": 0.249323,
     "end_time": "2020-09-23T12:23:56.534797",
     "exception": false,
     "start_time": "2020-09-23T12:23:56.285474",
     "status": "completed"
    },
    "tags": []
   },
   "outputs": [
    {
     "data": {
      "text/html": [
       "<div>\n",
       "<style scoped>\n",
       "    .dataframe tbody tr th:only-of-type {\n",
       "        vertical-align: middle;\n",
       "    }\n",
       "\n",
       "    .dataframe tbody tr th {\n",
       "        vertical-align: top;\n",
       "    }\n",
       "\n",
       "    .dataframe thead th {\n",
       "        text-align: right;\n",
       "    }\n",
       "</style>\n",
       "<table border=\"1\" class=\"dataframe\">\n",
       "  <thead>\n",
       "    <tr style=\"text-align: right;\">\n",
       "      <th></th>\n",
       "      <th>Day</th>\n",
       "      <th>Year</th>\n",
       "      <th>Customer_Age</th>\n",
       "      <th>Order_Quantity</th>\n",
       "      <th>Unit_Cost</th>\n",
       "      <th>Unit_Price</th>\n",
       "      <th>Profit</th>\n",
       "      <th>Cost</th>\n",
       "      <th>Revenue</th>\n",
       "      <th>Revenu_Per_Age</th>\n",
       "      <th>Calculated_Cost</th>\n",
       "      <th>Calculates_Revenue</th>\n",
       "    </tr>\n",
       "  </thead>\n",
       "  <tbody>\n",
       "    <tr>\n",
       "      <th>Day</th>\n",
       "      <td>1.000000</td>\n",
       "      <td>-0.007635</td>\n",
       "      <td>-0.014296</td>\n",
       "      <td>-0.002412</td>\n",
       "      <td>0.003133</td>\n",
       "      <td>0.003207</td>\n",
       "      <td>0.004623</td>\n",
       "      <td>0.003329</td>\n",
       "      <td>0.003853</td>\n",
       "      <td>0.005472</td>\n",
       "      <td>0.003329</td>\n",
       "      <td>0.003853</td>\n",
       "    </tr>\n",
       "    <tr>\n",
       "      <th>Year</th>\n",
       "      <td>-0.007635</td>\n",
       "      <td>1.000000</td>\n",
       "      <td>0.040994</td>\n",
       "      <td>0.123169</td>\n",
       "      <td>-0.217575</td>\n",
       "      <td>-0.213673</td>\n",
       "      <td>-0.181525</td>\n",
       "      <td>-0.215604</td>\n",
       "      <td>-0.208673</td>\n",
       "      <td>-0.215778</td>\n",
       "      <td>-0.215604</td>\n",
       "      <td>-0.208673</td>\n",
       "    </tr>\n",
       "    <tr>\n",
       "      <th>Customer_Age</th>\n",
       "      <td>-0.014296</td>\n",
       "      <td>0.040994</td>\n",
       "      <td>1.000000</td>\n",
       "      <td>0.026887</td>\n",
       "      <td>-0.021374</td>\n",
       "      <td>-0.020262</td>\n",
       "      <td>0.004319</td>\n",
       "      <td>-0.016013</td>\n",
       "      <td>-0.009326</td>\n",
       "      <td>-0.154795</td>\n",
       "      <td>-0.016013</td>\n",
       "      <td>-0.009326</td>\n",
       "    </tr>\n",
       "    <tr>\n",
       "      <th>Order_Quantity</th>\n",
       "      <td>-0.002412</td>\n",
       "      <td>0.123169</td>\n",
       "      <td>0.026887</td>\n",
       "      <td>1.000000</td>\n",
       "      <td>-0.515835</td>\n",
       "      <td>-0.515925</td>\n",
       "      <td>-0.238863</td>\n",
       "      <td>-0.340382</td>\n",
       "      <td>-0.312895</td>\n",
       "      <td>-0.301572</td>\n",
       "      <td>-0.340382</td>\n",
       "      <td>-0.312895</td>\n",
       "    </tr>\n",
       "    <tr>\n",
       "      <th>Unit_Cost</th>\n",
       "      <td>0.003133</td>\n",
       "      <td>-0.217575</td>\n",
       "      <td>-0.021374</td>\n",
       "      <td>-0.515835</td>\n",
       "      <td>1.000000</td>\n",
       "      <td>0.997894</td>\n",
       "      <td>0.741020</td>\n",
       "      <td>0.829869</td>\n",
       "      <td>0.817865</td>\n",
       "      <td>0.779523</td>\n",
       "      <td>0.829869</td>\n",
       "      <td>0.817865</td>\n",
       "    </tr>\n",
       "    <tr>\n",
       "      <th>Unit_Price</th>\n",
       "      <td>0.003207</td>\n",
       "      <td>-0.213673</td>\n",
       "      <td>-0.020262</td>\n",
       "      <td>-0.515925</td>\n",
       "      <td>0.997894</td>\n",
       "      <td>1.000000</td>\n",
       "      <td>0.749870</td>\n",
       "      <td>0.826301</td>\n",
       "      <td>0.818522</td>\n",
       "      <td>0.779760</td>\n",
       "      <td>0.826301</td>\n",
       "      <td>0.818522</td>\n",
       "    </tr>\n",
       "    <tr>\n",
       "      <th>Profit</th>\n",
       "      <td>0.004623</td>\n",
       "      <td>-0.181525</td>\n",
       "      <td>0.004319</td>\n",
       "      <td>-0.238863</td>\n",
       "      <td>0.741020</td>\n",
       "      <td>0.749870</td>\n",
       "      <td>1.000000</td>\n",
       "      <td>0.902233</td>\n",
       "      <td>0.956572</td>\n",
       "      <td>0.898603</td>\n",
       "      <td>0.902233</td>\n",
       "      <td>0.956572</td>\n",
       "    </tr>\n",
       "    <tr>\n",
       "      <th>Cost</th>\n",
       "      <td>0.003329</td>\n",
       "      <td>-0.215604</td>\n",
       "      <td>-0.016013</td>\n",
       "      <td>-0.340382</td>\n",
       "      <td>0.829869</td>\n",
       "      <td>0.826301</td>\n",
       "      <td>0.902233</td>\n",
       "      <td>1.000000</td>\n",
       "      <td>0.988758</td>\n",
       "      <td>0.935448</td>\n",
       "      <td>1.000000</td>\n",
       "      <td>0.988758</td>\n",
       "    </tr>\n",
       "    <tr>\n",
       "      <th>Revenue</th>\n",
       "      <td>0.003853</td>\n",
       "      <td>-0.208673</td>\n",
       "      <td>-0.009326</td>\n",
       "      <td>-0.312895</td>\n",
       "      <td>0.817865</td>\n",
       "      <td>0.818522</td>\n",
       "      <td>0.956572</td>\n",
       "      <td>0.988758</td>\n",
       "      <td>1.000000</td>\n",
       "      <td>0.943866</td>\n",
       "      <td>0.988758</td>\n",
       "      <td>1.000000</td>\n",
       "    </tr>\n",
       "    <tr>\n",
       "      <th>Revenu_Per_Age</th>\n",
       "      <td>0.005472</td>\n",
       "      <td>-0.215778</td>\n",
       "      <td>-0.154795</td>\n",
       "      <td>-0.301572</td>\n",
       "      <td>0.779523</td>\n",
       "      <td>0.779760</td>\n",
       "      <td>0.898603</td>\n",
       "      <td>0.935448</td>\n",
       "      <td>0.943866</td>\n",
       "      <td>1.000000</td>\n",
       "      <td>0.935448</td>\n",
       "      <td>0.943866</td>\n",
       "    </tr>\n",
       "    <tr>\n",
       "      <th>Calculated_Cost</th>\n",
       "      <td>0.003329</td>\n",
       "      <td>-0.215604</td>\n",
       "      <td>-0.016013</td>\n",
       "      <td>-0.340382</td>\n",
       "      <td>0.829869</td>\n",
       "      <td>0.826301</td>\n",
       "      <td>0.902233</td>\n",
       "      <td>1.000000</td>\n",
       "      <td>0.988758</td>\n",
       "      <td>0.935448</td>\n",
       "      <td>1.000000</td>\n",
       "      <td>0.988758</td>\n",
       "    </tr>\n",
       "    <tr>\n",
       "      <th>Calculates_Revenue</th>\n",
       "      <td>0.003853</td>\n",
       "      <td>-0.208673</td>\n",
       "      <td>-0.009326</td>\n",
       "      <td>-0.312895</td>\n",
       "      <td>0.817865</td>\n",
       "      <td>0.818522</td>\n",
       "      <td>0.956572</td>\n",
       "      <td>0.988758</td>\n",
       "      <td>1.000000</td>\n",
       "      <td>0.943866</td>\n",
       "      <td>0.988758</td>\n",
       "      <td>1.000000</td>\n",
       "    </tr>\n",
       "  </tbody>\n",
       "</table>\n",
       "</div>"
      ],
      "text/plain": [
       "                         Day      Year  Customer_Age  Order_Quantity  \\\n",
       "Day                 1.000000 -0.007635     -0.014296       -0.002412   \n",
       "Year               -0.007635  1.000000      0.040994        0.123169   \n",
       "Customer_Age       -0.014296  0.040994      1.000000        0.026887   \n",
       "Order_Quantity     -0.002412  0.123169      0.026887        1.000000   \n",
       "Unit_Cost           0.003133 -0.217575     -0.021374       -0.515835   \n",
       "Unit_Price          0.003207 -0.213673     -0.020262       -0.515925   \n",
       "Profit              0.004623 -0.181525      0.004319       -0.238863   \n",
       "Cost                0.003329 -0.215604     -0.016013       -0.340382   \n",
       "Revenue             0.003853 -0.208673     -0.009326       -0.312895   \n",
       "Revenu_Per_Age      0.005472 -0.215778     -0.154795       -0.301572   \n",
       "Calculated_Cost     0.003329 -0.215604     -0.016013       -0.340382   \n",
       "Calculates_Revenue  0.003853 -0.208673     -0.009326       -0.312895   \n",
       "\n",
       "                    Unit_Cost  Unit_Price    Profit      Cost   Revenue  \\\n",
       "Day                  0.003133    0.003207  0.004623  0.003329  0.003853   \n",
       "Year                -0.217575   -0.213673 -0.181525 -0.215604 -0.208673   \n",
       "Customer_Age        -0.021374   -0.020262  0.004319 -0.016013 -0.009326   \n",
       "Order_Quantity      -0.515835   -0.515925 -0.238863 -0.340382 -0.312895   \n",
       "Unit_Cost            1.000000    0.997894  0.741020  0.829869  0.817865   \n",
       "Unit_Price           0.997894    1.000000  0.749870  0.826301  0.818522   \n",
       "Profit               0.741020    0.749870  1.000000  0.902233  0.956572   \n",
       "Cost                 0.829869    0.826301  0.902233  1.000000  0.988758   \n",
       "Revenue              0.817865    0.818522  0.956572  0.988758  1.000000   \n",
       "Revenu_Per_Age       0.779523    0.779760  0.898603  0.935448  0.943866   \n",
       "Calculated_Cost      0.829869    0.826301  0.902233  1.000000  0.988758   \n",
       "Calculates_Revenue   0.817865    0.818522  0.956572  0.988758  1.000000   \n",
       "\n",
       "                    Revenu_Per_Age  Calculated_Cost  Calculates_Revenue  \n",
       "Day                       0.005472         0.003329            0.003853  \n",
       "Year                     -0.215778        -0.215604           -0.208673  \n",
       "Customer_Age             -0.154795        -0.016013           -0.009326  \n",
       "Order_Quantity           -0.301572        -0.340382           -0.312895  \n",
       "Unit_Cost                 0.779523         0.829869            0.817865  \n",
       "Unit_Price                0.779760         0.826301            0.818522  \n",
       "Profit                    0.898603         0.902233            0.956572  \n",
       "Cost                      0.935448         1.000000            0.988758  \n",
       "Revenue                   0.943866         0.988758            1.000000  \n",
       "Revenu_Per_Age            1.000000         0.935448            0.943866  \n",
       "Calculated_Cost           0.935448         1.000000            0.988758  \n",
       "Calculates_Revenue        0.943866         0.988758            1.000000  "
      ]
     },
     "execution_count": 79,
     "metadata": {},
     "output_type": "execute_result"
    }
   ],
   "source": [
    "Corr=Sales.corr()\n",
    "Corr"
   ]
  },
  {
   "cell_type": "code",
   "execution_count": 80,
   "metadata": {
    "execution": {
     "iopub.execute_input": "2020-09-23T12:23:56.877598Z",
     "iopub.status.busy": "2020-09-23T12:23:56.875741Z",
     "iopub.status.idle": "2020-09-23T12:23:57.073379Z",
     "shell.execute_reply": "2020-09-23T12:23:57.072566Z"
    },
    "papermill": {
     "duration": 0.375367,
     "end_time": "2020-09-23T12:23:57.073513",
     "exception": false,
     "start_time": "2020-09-23T12:23:56.698146",
     "status": "completed"
    },
    "tags": []
   },
   "outputs": [
    {
     "data": {
      "image/png": "[encoded data removed]",
      "text/plain": [
       "<Figure size 576x576 with 1 Axes>"
      ]
     },
     "metadata": {
      "needs_background": "light"
     },
     "output_type": "display_data"
    }
   ],
   "source": [
    "figure = plt.figure(figsize=(8,8))\n",
    "plt.matshow(Corr, cmap='RdBu', fignum=figure.number)\n",
    "plt.xticks(range(len(Corr.columns)),Corr.columns,rotation='vertical')\n",
    "plt.yticks(range(len(Corr.columns)), Corr.columns);"
   ]
  },
  {
   "cell_type": "code",
   "execution_count": null,
   "metadata": {
    "papermill": {
     "duration": 0.180678,
     "end_time": "2020-09-23T12:23:57.420272",
     "exception": false,
     "start_time": "2020-09-23T12:23:57.239594",
     "status": "completed"
    },
    "tags": []
   },
   "outputs": [],
   "source": []
  },
  {
   "cell_type": "code",
   "execution_count": null,
   "metadata": {
    "papermill": {
     "duration": 0.163493,
     "end_time": "2020-09-23T12:23:57.750118",
     "exception": false,
     "start_time": "2020-09-23T12:23:57.586625",
     "status": "completed"
    },
    "tags": []
   },
   "outputs": [],
   "source": []
  },
  {
   "cell_type": "code",
   "execution_count": null,
   "metadata": {
    "papermill": {
     "duration": 0.169127,
     "end_time": "2020-09-23T12:23:58.085080",
     "exception": false,
     "start_time": "2020-09-23T12:23:57.915953",
     "status": "completed"
    },
    "tags": []
   },
   "outputs": [],
   "source": []
  }
 ],
 "metadata": {
  "kernelspec": {
   "display_name": "Python 3",
   "language": "python",
   "name": "python3"
  },
  "language_info": {
   "codemirror_mode": {
    "name": "ipython",
    "version": 3
   },
   "file_extension": ".py",
   "mimetype": "text/x-python",
   "name": "python",
   "nbconvert_exporter": "python",
   "pygments_lexer": "ipython3",
   "version": "3.7.6"
  },
  "papermill": {
   "duration": 80.099739,
   "end_time": "2020-09-23T12:23:58.358346",
   "environment_variables": {},
   "exception": null,
   "input_path": "__notebook__.ipynb",
   "output_path": "__notebook__.ipynb",
   "parameters": {},
   "start_time": "2020-09-23T12:22:38.258607",
   "version": "2.1.0"
  }
 },
 "nbformat": 4,
 "nbformat_minor": 4
}
